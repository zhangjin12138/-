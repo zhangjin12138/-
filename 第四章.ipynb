{
 "cells": [
  {
   "cell_type": "code",
   "execution_count": 1,
   "metadata": {
    "ExecuteTime": {
     "end_time": "2020-08-19T06:26:12.238214Z",
     "start_time": "2020-08-19T06:26:11.641578Z"
    }
   },
   "outputs": [],
   "source": [
    "import numpy as np\n",
    "\n",
    "my_arr = np.arange(1000000)\n",
    "my_list = list(range(1000000))"
   ]
  },
  {
   "cell_type": "code",
   "execution_count": 2,
   "metadata": {
    "ExecuteTime": {
     "end_time": "2020-08-19T06:26:12.263638Z",
     "start_time": "2020-08-19T06:26:12.244848Z"
    }
   },
   "outputs": [
    {
     "name": "stdout",
     "output_type": "stream",
     "text": [
      "Wall time: 0 ns\n"
     ]
    }
   ],
   "source": [
    "%time\n",
    "for _ in range(10):\n",
    "    my_arr *= 2"
   ]
  },
  {
   "cell_type": "code",
   "execution_count": 3,
   "metadata": {
    "ExecuteTime": {
     "end_time": "2020-08-19T06:26:14.134403Z",
     "start_time": "2020-08-19T06:26:12.267969Z"
    }
   },
   "outputs": [
    {
     "name": "stdout",
     "output_type": "stream",
     "text": [
      "Wall time: 0 ns\n"
     ]
    }
   ],
   "source": [
    "%time\n",
    "for _ in range(10):\n",
    "    my_list2 = [x*2 for x in my_list]\n",
    "    "
   ]
  },
  {
   "cell_type": "code",
   "execution_count": 4,
   "metadata": {
    "ExecuteTime": {
     "end_time": "2020-08-19T06:26:14.197460Z",
     "start_time": "2020-08-19T06:26:14.138196Z"
    }
   },
   "outputs": [
    {
     "data": {
      "text/plain": [
       "array([[-1.04234299, -1.42647552,  0.90895592],\n",
       "       [-0.6966769 , -1.1165864 , -0.39869994]])"
      ]
     },
     "execution_count": 4,
     "metadata": {},
     "output_type": "execute_result"
    }
   ],
   "source": [
    "data = np.random.randn(2,3)\n",
    "data"
   ]
  },
  {
   "cell_type": "code",
   "execution_count": 5,
   "metadata": {
    "ExecuteTime": {
     "end_time": "2020-08-19T06:26:14.222403Z",
     "start_time": "2020-08-19T06:26:14.202850Z"
    }
   },
   "outputs": [
    {
     "name": "stdout",
     "output_type": "stream",
     "text": [
      "[[-10.42342988 -14.26475524   9.08955916]\n",
      " [ -6.96676903 -11.16586399  -3.98699935]]\n",
      "[[-2.08468598 -2.85295105  1.81791183]\n",
      " [-1.39335381 -2.2331728  -0.79739987]]\n"
     ]
    }
   ],
   "source": [
    "print(data * 10)\n",
    "print(data + data)"
   ]
  },
  {
   "cell_type": "code",
   "execution_count": 6,
   "metadata": {
    "ExecuteTime": {
     "end_time": "2020-08-19T06:26:14.242526Z",
     "start_time": "2020-08-19T06:26:14.225393Z"
    }
   },
   "outputs": [
    {
     "name": "stdout",
     "output_type": "stream",
     "text": [
      "(2, 3)\n",
      "float64\n"
     ]
    }
   ],
   "source": [
    "print(data.shape)\n",
    "print(data.dtype)"
   ]
  },
  {
   "cell_type": "code",
   "execution_count": 7,
   "metadata": {
    "ExecuteTime": {
     "end_time": "2020-08-19T06:26:14.260312Z",
     "start_time": "2020-08-19T06:26:14.246529Z"
    }
   },
   "outputs": [
    {
     "data": {
      "text/plain": [
       "array([6. , 7.5, 8. , 0. , 1. ])"
      ]
     },
     "execution_count": 7,
     "metadata": {},
     "output_type": "execute_result"
    }
   ],
   "source": [
    "data1 = [6, 7.5, 8, 0, 1]\n",
    "arr1 = np.array(data1)\n",
    "arr1"
   ]
  },
  {
   "cell_type": "code",
   "execution_count": 8,
   "metadata": {
    "ExecuteTime": {
     "end_time": "2020-08-19T06:26:14.284557Z",
     "start_time": "2020-08-19T06:26:14.268459Z"
    }
   },
   "outputs": [
    {
     "data": {
      "text/plain": [
       "array([[1, 2, 3, 4],\n",
       "       [5, 6, 7, 8]])"
      ]
     },
     "execution_count": 8,
     "metadata": {},
     "output_type": "execute_result"
    }
   ],
   "source": [
    "data2 = [[1, 2, 3, 4], [5, 6, 7, 8]]\n",
    "arr2 = np.array(data2)\n",
    "arr2"
   ]
  },
  {
   "cell_type": "code",
   "execution_count": 9,
   "metadata": {
    "ExecuteTime": {
     "end_time": "2020-08-19T06:26:14.309950Z",
     "start_time": "2020-08-19T06:26:14.288547Z"
    }
   },
   "outputs": [
    {
     "name": "stdout",
     "output_type": "stream",
     "text": [
      "2\n",
      "(2, 4)\n"
     ]
    }
   ],
   "source": [
    "print(arr2.ndim)\n",
    "print(arr2.shape)"
   ]
  },
  {
   "cell_type": "code",
   "execution_count": 10,
   "metadata": {
    "ExecuteTime": {
     "end_time": "2020-08-19T06:26:14.324864Z",
     "start_time": "2020-08-19T06:26:14.314449Z"
    }
   },
   "outputs": [
    {
     "name": "stdout",
     "output_type": "stream",
     "text": [
      "float64\n",
      "int32\n"
     ]
    }
   ],
   "source": [
    "print(arr1.dtype)\n",
    "print(arr2.dtype)"
   ]
  },
  {
   "cell_type": "code",
   "execution_count": 11,
   "metadata": {
    "ExecuteTime": {
     "end_time": "2020-08-19T06:26:14.349435Z",
     "start_time": "2020-08-19T06:26:14.329243Z"
    }
   },
   "outputs": [
    {
     "name": "stdout",
     "output_type": "stream",
     "text": [
      "[0. 0. 0. 0. 0. 0. 0. 0. 0. 0.]\n",
      "[[0. 0. 0. 0. 0. 0.]\n",
      " [0. 0. 0. 0. 0. 0.]\n",
      " [0. 0. 0. 0. 0. 0.]]\n",
      "[[[1.23195423e-311 3.16202013e-322]\n",
      "  [0.00000000e+000 0.00000000e+000]\n",
      "  [0.00000000e+000 4.88870820e-033]]\n",
      "\n",
      " [[5.88174087e-062 1.33671270e+165]\n",
      "  [4.05604871e+174 1.26779247e-071]\n",
      "  [3.06247026e-057 2.38546060e+180]]]\n"
     ]
    }
   ],
   "source": [
    "print(np.zeros(10))\n",
    "print(np.zeros((3, 6)))\n",
    "print(np.empty((2, 3, 2)))"
   ]
  },
  {
   "cell_type": "code",
   "execution_count": 12,
   "metadata": {
    "ExecuteTime": {
     "end_time": "2020-08-19T06:26:14.368538Z",
     "start_time": "2020-08-19T06:26:14.353769Z"
    }
   },
   "outputs": [
    {
     "data": {
      "text/plain": [
       "array([ 0,  1,  2,  3,  4,  5,  6,  7,  8,  9, 10, 11, 12, 13, 14])"
      ]
     },
     "execution_count": 12,
     "metadata": {},
     "output_type": "execute_result"
    }
   ],
   "source": [
    "np.arange(15)"
   ]
  },
  {
   "cell_type": "code",
   "execution_count": 13,
   "metadata": {
    "ExecuteTime": {
     "end_time": "2020-08-19T06:26:14.391329Z",
     "start_time": "2020-08-19T06:26:14.372420Z"
    }
   },
   "outputs": [
    {
     "name": "stdout",
     "output_type": "stream",
     "text": [
      "float64\n",
      "int32\n"
     ]
    }
   ],
   "source": [
    "arr1 = np.array([1, 2, 3], dtype=np.float64)\n",
    "arr2 = np.array([1, 2, 3], dtype=np.int32)\n",
    "print(arr1.dtype)\n",
    "print(arr2.dtype)"
   ]
  },
  {
   "cell_type": "code",
   "execution_count": 14,
   "metadata": {
    "ExecuteTime": {
     "end_time": "2020-08-19T06:26:14.414339Z",
     "start_time": "2020-08-19T06:26:14.397157Z"
    }
   },
   "outputs": [
    {
     "name": "stdout",
     "output_type": "stream",
     "text": [
      "int32\n",
      "float64\n"
     ]
    }
   ],
   "source": [
    "arr = np.array([1, 2, 3, 4, 5])\n",
    "print(arr.dtype)\n",
    "float_arr = arr.astype(np.float64)\n",
    "print(float_arr.dtype)"
   ]
  },
  {
   "cell_type": "code",
   "execution_count": 15,
   "metadata": {
    "ExecuteTime": {
     "end_time": "2020-08-19T06:26:14.436197Z",
     "start_time": "2020-08-19T06:26:14.423130Z"
    }
   },
   "outputs": [
    {
     "name": "stdout",
     "output_type": "stream",
     "text": [
      "[ 3.7 -1.2 -2.6  0.5 12.9 10.1]\n",
      "[ 3 -1 -2  0 12 10]\n"
     ]
    }
   ],
   "source": [
    "arr = np.array([3.7, -1.2, -2.6, 0.5, 12.9, 10.1])\n",
    "print(arr)\n",
    "int_arr = arr.astype(np.int32)\n",
    "print(int_arr)"
   ]
  },
  {
   "cell_type": "code",
   "execution_count": 16,
   "metadata": {
    "ExecuteTime": {
     "end_time": "2020-08-19T06:26:14.456450Z",
     "start_time": "2020-08-19T06:26:14.440085Z"
    }
   },
   "outputs": [
    {
     "data": {
      "text/plain": [
       "array([ 1.25, -9.6 , 42.  ])"
      ]
     },
     "execution_count": 16,
     "metadata": {},
     "output_type": "execute_result"
    }
   ],
   "source": [
    "numeric_strings = np.array(['1.25', '-9.6', '42'], dtype=np.string_)\n",
    "numeric_strings.astype(float)"
   ]
  },
  {
   "cell_type": "code",
   "execution_count": 17,
   "metadata": {
    "ExecuteTime": {
     "end_time": "2020-08-19T06:26:14.475363Z",
     "start_time": "2020-08-19T06:26:14.461133Z"
    }
   },
   "outputs": [
    {
     "data": {
      "text/plain": [
       "array([0., 1., 2., 3., 4., 5., 6., 7., 8., 9.])"
      ]
     },
     "execution_count": 17,
     "metadata": {},
     "output_type": "execute_result"
    }
   ],
   "source": [
    "int_array = np.arange(10)\n",
    "calibers = np.array([.22, .270, .357, .380, .44, .50], dtype=np.float64)\n",
    "int_array.astype(calibers.dtype)\n"
   ]
  },
  {
   "cell_type": "code",
   "execution_count": 18,
   "metadata": {
    "ExecuteTime": {
     "end_time": "2020-08-19T06:26:14.499807Z",
     "start_time": "2020-08-19T06:26:14.479353Z"
    }
   },
   "outputs": [
    {
     "data": {
      "text/plain": [
       "array([         0, 1075314688,          0, 1075707904,          0,\n",
       "       1075838976,          0, 1072693248], dtype=uint32)"
      ]
     },
     "execution_count": 18,
     "metadata": {},
     "output_type": "execute_result"
    }
   ],
   "source": [
    "empty_uint32 = np.empty(8, dtype='u4')\n",
    "empty_uint32"
   ]
  },
  {
   "cell_type": "code",
   "execution_count": 19,
   "metadata": {
    "ExecuteTime": {
     "end_time": "2020-08-19T06:26:14.525557Z",
     "start_time": "2020-08-19T06:26:14.504305Z"
    }
   },
   "outputs": [
    {
     "name": "stdout",
     "output_type": "stream",
     "text": [
      "[[1. 2. 3.]\n",
      " [4. 5. 6.]]\n",
      "[[ 1.  4.  9.]\n",
      " [16. 25. 36.]]\n",
      "[[0. 0. 0.]\n",
      " [0. 0. 0.]]\n",
      "[[1.         0.5        0.33333333]\n",
      " [0.25       0.2        0.16666667]]\n",
      "[[1.         1.41421356 1.73205081]\n",
      " [2.         2.23606798 2.44948974]]\n"
     ]
    }
   ],
   "source": [
    "arr = np.array([[1., 2., 3.], [4., 5., 6.]])\n",
    "print(arr)\n",
    "print(arr * arr)\n",
    "print(arr - arr)\n",
    "print(1 / arr)\n",
    "print(arr ** 0.5)"
   ]
  },
  {
   "cell_type": "code",
   "execution_count": 20,
   "metadata": {
    "ExecuteTime": {
     "end_time": "2020-08-19T06:26:14.541515Z",
     "start_time": "2020-08-19T06:26:14.534568Z"
    }
   },
   "outputs": [
    {
     "data": {
      "text/plain": [
       "array([[False,  True, False],\n",
       "       [ True, False,  True]])"
      ]
     },
     "execution_count": 20,
     "metadata": {},
     "output_type": "execute_result"
    }
   ],
   "source": [
    "arr2 = np.array([[0., 4., 1.], [7., 2., 12.]])\n",
    "arr2 > arr"
   ]
  },
  {
   "cell_type": "code",
   "execution_count": 21,
   "metadata": {
    "ExecuteTime": {
     "end_time": "2020-08-19T06:26:14.561505Z",
     "start_time": "2020-08-19T06:26:14.547500Z"
    }
   },
   "outputs": [
    {
     "name": "stdout",
     "output_type": "stream",
     "text": [
      "[0 1 2 3 4 5 6 7 8 9]\n",
      "5\n",
      "[5 6 7]\n",
      "[ 0  1  2  3  4 12 12 12  8  9]\n"
     ]
    }
   ],
   "source": [
    "arr = np.arange(10)\n",
    "print(arr)\n",
    "print(arr[5])\n",
    "print(arr[5:8])\n",
    "arr[5:8] = 12\n",
    "print(arr)"
   ]
  },
  {
   "cell_type": "code",
   "execution_count": 22,
   "metadata": {
    "ExecuteTime": {
     "end_time": "2020-08-19T06:26:14.579178Z",
     "start_time": "2020-08-19T06:26:14.565733Z"
    }
   },
   "outputs": [
    {
     "data": {
      "text/plain": [
       "array([12, 12, 12])"
      ]
     },
     "execution_count": 22,
     "metadata": {},
     "output_type": "execute_result"
    }
   ],
   "source": [
    "arr_slice = arr[5:8]\n",
    "arr_slice"
   ]
  },
  {
   "cell_type": "code",
   "execution_count": 23,
   "metadata": {
    "ExecuteTime": {
     "end_time": "2020-08-19T06:26:14.600324Z",
     "start_time": "2020-08-19T06:26:14.583426Z"
    }
   },
   "outputs": [
    {
     "data": {
      "text/plain": [
       "array([    0,     1,     2,     3,     4,    12, 12345,    12,     8,\n",
       "           9])"
      ]
     },
     "execution_count": 23,
     "metadata": {},
     "output_type": "execute_result"
    }
   ],
   "source": [
    "arr_slice[1] = 12345\n",
    "arr"
   ]
  },
  {
   "cell_type": "code",
   "execution_count": 24,
   "metadata": {
    "ExecuteTime": {
     "end_time": "2020-08-19T06:26:14.625451Z",
     "start_time": "2020-08-19T06:26:14.605827Z"
    }
   },
   "outputs": [
    {
     "data": {
      "text/plain": [
       "array([ 0,  1,  2,  3,  4, 64, 64, 64,  8,  9])"
      ]
     },
     "execution_count": 24,
     "metadata": {},
     "output_type": "execute_result"
    }
   ],
   "source": [
    "arr_slice[:] = 64\n",
    "arr "
   ]
  },
  {
   "cell_type": "code",
   "execution_count": 25,
   "metadata": {
    "ExecuteTime": {
     "end_time": "2020-08-19T06:26:14.642413Z",
     "start_time": "2020-08-19T06:26:14.628444Z"
    }
   },
   "outputs": [
    {
     "data": {
      "text/plain": [
       "array([7, 8, 9])"
      ]
     },
     "execution_count": 25,
     "metadata": {},
     "output_type": "execute_result"
    }
   ],
   "source": [
    "arr2d = np.array([[1, 2, 3], [4, 5, 6], [7, 8, 9]])\n",
    "arr2d[2]"
   ]
  },
  {
   "cell_type": "code",
   "execution_count": 26,
   "metadata": {
    "ExecuteTime": {
     "end_time": "2020-08-19T06:26:14.659361Z",
     "start_time": "2020-08-19T06:26:14.648391Z"
    }
   },
   "outputs": [
    {
     "name": "stdout",
     "output_type": "stream",
     "text": [
      "3\n",
      "3\n"
     ]
    }
   ],
   "source": [
    "print(arr2d[0][2])\n",
    "print(arr2d[0, 2])\n",
    "# 两者等价"
   ]
  },
  {
   "cell_type": "code",
   "execution_count": 27,
   "metadata": {
    "ExecuteTime": {
     "end_time": "2020-08-19T06:26:14.680961Z",
     "start_time": "2020-08-19T06:26:14.664218Z"
    }
   },
   "outputs": [
    {
     "name": "stdout",
     "output_type": "stream",
     "text": [
      "[[[ 1  2  3]\n",
      "  [ 4  5  6]]\n",
      "\n",
      " [[ 7  8  9]\n",
      "  [10 11 12]]]\n",
      "[[1 2 3]\n",
      " [4 5 6]]\n",
      "[[[42 42 42]\n",
      "  [42 42 42]]\n",
      "\n",
      " [[ 7  8  9]\n",
      "  [10 11 12]]]\n",
      "[[1 2 3]\n",
      " [4 5 6]]\n"
     ]
    }
   ],
   "source": [
    "arr3d = np.array([[[1, 2, 3], [4, 5, 6]], [[7, 8, 9], [10, 11, 12]]])\n",
    "print(arr3d)\n",
    "print(arr3d[0])\n",
    "old_values = arr3d[0].copy()\n",
    "arr3d[0] = 42\n",
    "print(arr3d)\n",
    "print(old_values)"
   ]
  },
  {
   "cell_type": "code",
   "execution_count": 28,
   "metadata": {
    "ExecuteTime": {
     "end_time": "2020-08-19T06:26:14.692822Z",
     "start_time": "2020-08-19T06:26:14.683957Z"
    }
   },
   "outputs": [
    {
     "data": {
      "text/plain": [
       "array([7, 8, 9])"
      ]
     },
     "execution_count": 28,
     "metadata": {},
     "output_type": "execute_result"
    }
   ],
   "source": [
    "arr3d[1, 0]"
   ]
  },
  {
   "cell_type": "code",
   "execution_count": 29,
   "metadata": {
    "ExecuteTime": {
     "end_time": "2020-08-19T06:26:14.711310Z",
     "start_time": "2020-08-19T06:26:14.696784Z"
    }
   },
   "outputs": [
    {
     "data": {
      "text/plain": [
       "array([7, 8, 9])"
      ]
     },
     "execution_count": 29,
     "metadata": {},
     "output_type": "execute_result"
    }
   ],
   "source": [
    "x = arr3d[1]\n",
    "x[0]"
   ]
  },
  {
   "cell_type": "code",
   "execution_count": 30,
   "metadata": {
    "ExecuteTime": {
     "end_time": "2020-08-19T06:26:14.729742Z",
     "start_time": "2020-08-19T06:26:14.718249Z"
    }
   },
   "outputs": [
    {
     "data": {
      "text/plain": [
       "array([ 0,  1,  2,  3,  4, 64, 64, 64,  8,  9])"
      ]
     },
     "execution_count": 30,
     "metadata": {},
     "output_type": "execute_result"
    }
   ],
   "source": [
    "arr"
   ]
  },
  {
   "cell_type": "code",
   "execution_count": 31,
   "metadata": {
    "ExecuteTime": {
     "end_time": "2020-08-19T06:26:14.752324Z",
     "start_time": "2020-08-19T06:26:14.733607Z"
    }
   },
   "outputs": [
    {
     "data": {
      "text/plain": [
       "array([ 1,  2,  3,  4, 64])"
      ]
     },
     "execution_count": 31,
     "metadata": {},
     "output_type": "execute_result"
    }
   ],
   "source": [
    "arr[1:6]"
   ]
  },
  {
   "cell_type": "code",
   "execution_count": 32,
   "metadata": {
    "ExecuteTime": {
     "end_time": "2020-08-19T06:26:14.773586Z",
     "start_time": "2020-08-19T06:26:14.755985Z"
    }
   },
   "outputs": [
    {
     "data": {
      "text/plain": [
       "array([[1, 2, 3],\n",
       "       [4, 5, 6],\n",
       "       [7, 8, 9]])"
      ]
     },
     "execution_count": 32,
     "metadata": {},
     "output_type": "execute_result"
    }
   ],
   "source": [
    "arr2d"
   ]
  },
  {
   "cell_type": "code",
   "execution_count": 33,
   "metadata": {
    "ExecuteTime": {
     "end_time": "2020-08-19T06:26:14.793978Z",
     "start_time": "2020-08-19T06:26:14.776530Z"
    }
   },
   "outputs": [
    {
     "data": {
      "text/plain": [
       "array([[1, 2, 3],\n",
       "       [4, 5, 6]])"
      ]
     },
     "execution_count": 33,
     "metadata": {},
     "output_type": "execute_result"
    }
   ],
   "source": [
    "arr2d[:2]"
   ]
  },
  {
   "cell_type": "code",
   "execution_count": 34,
   "metadata": {
    "ExecuteTime": {
     "end_time": "2020-08-19T06:26:14.821630Z",
     "start_time": "2020-08-19T06:26:14.797969Z"
    }
   },
   "outputs": [
    {
     "data": {
      "text/plain": [
       "array([[2, 3],\n",
       "       [5, 6]])"
      ]
     },
     "execution_count": 34,
     "metadata": {},
     "output_type": "execute_result"
    }
   ],
   "source": [
    "arr2d[:2, 1:]"
   ]
  },
  {
   "cell_type": "code",
   "execution_count": 35,
   "metadata": {
    "ExecuteTime": {
     "end_time": "2020-08-19T06:26:14.836587Z",
     "start_time": "2020-08-19T06:26:14.824593Z"
    }
   },
   "outputs": [
    {
     "data": {
      "text/plain": [
       "array([4, 5])"
      ]
     },
     "execution_count": 35,
     "metadata": {},
     "output_type": "execute_result"
    }
   ],
   "source": [
    "arr2d[1, :2]"
   ]
  },
  {
   "cell_type": "code",
   "execution_count": 36,
   "metadata": {
    "ExecuteTime": {
     "end_time": "2020-08-19T06:26:14.853251Z",
     "start_time": "2020-08-19T06:26:14.839574Z"
    }
   },
   "outputs": [
    {
     "data": {
      "text/plain": [
       "array([3, 6])"
      ]
     },
     "execution_count": 36,
     "metadata": {},
     "output_type": "execute_result"
    }
   ],
   "source": [
    "arr2d[:2, 2]"
   ]
  },
  {
   "cell_type": "code",
   "execution_count": 37,
   "metadata": {
    "ExecuteTime": {
     "end_time": "2020-08-19T06:26:14.873879Z",
     "start_time": "2020-08-19T06:26:14.860224Z"
    }
   },
   "outputs": [
    {
     "data": {
      "text/plain": [
       "array([[1],\n",
       "       [4],\n",
       "       [7]])"
      ]
     },
     "execution_count": 37,
     "metadata": {},
     "output_type": "execute_result"
    }
   ],
   "source": [
    "arr2d[:, :1]"
   ]
  },
  {
   "cell_type": "code",
   "execution_count": 38,
   "metadata": {
    "ExecuteTime": {
     "end_time": "2020-08-19T06:26:14.898129Z",
     "start_time": "2020-08-19T06:26:14.876828Z"
    }
   },
   "outputs": [
    {
     "data": {
      "text/plain": [
       "array([[1, 0, 0],\n",
       "       [4, 0, 0],\n",
       "       [7, 8, 9]])"
      ]
     },
     "execution_count": 38,
     "metadata": {},
     "output_type": "execute_result"
    }
   ],
   "source": [
    "arr2d[:2, 1:] = 0\n",
    "arr2d"
   ]
  },
  {
   "cell_type": "code",
   "execution_count": 39,
   "metadata": {
    "ExecuteTime": {
     "end_time": "2020-08-19T06:26:14.920472Z",
     "start_time": "2020-08-19T06:26:14.901228Z"
    }
   },
   "outputs": [
    {
     "name": "stdout",
     "output_type": "stream",
     "text": [
      "['Bob' 'Joe' 'Will' 'Bob' 'Will' 'Joe' 'Joe']\n",
      "[[ 2.09031831  0.26949838  1.01068208 -0.01473457]\n",
      " [ 0.43845347 -0.13275649 -1.02161826  0.63116872]\n",
      " [ 0.72327547  1.3398814  -0.03078802  0.90803894]\n",
      " [ 0.97102014 -1.37091811 -0.24574078 -1.48226723]\n",
      " [ 1.13409202 -1.14578965 -1.81331728  1.84400586]\n",
      " [ 0.59215393  0.06962328 -1.21443602  0.80300541]\n",
      " [-0.79445974 -0.75064998  1.5072371   0.97768724]]\n"
     ]
    }
   ],
   "source": [
    "names = np.array(['Bob', 'Joe', 'Will', 'Bob', 'Will', 'Joe', 'Joe'])\n",
    "data = np.random.randn(7, 4)\n",
    "print(names)\n",
    "print(data)"
   ]
  },
  {
   "cell_type": "code",
   "execution_count": 40,
   "metadata": {
    "ExecuteTime": {
     "end_time": "2020-08-19T06:26:14.937032Z",
     "start_time": "2020-08-19T06:26:14.923495Z"
    }
   },
   "outputs": [
    {
     "data": {
      "text/plain": [
       "array([ True, False, False,  True, False, False, False])"
      ]
     },
     "execution_count": 40,
     "metadata": {},
     "output_type": "execute_result"
    }
   ],
   "source": [
    "names == 'Bob'"
   ]
  },
  {
   "cell_type": "code",
   "execution_count": 41,
   "metadata": {
    "ExecuteTime": {
     "end_time": "2020-08-19T06:26:14.955262Z",
     "start_time": "2020-08-19T06:26:14.941011Z"
    }
   },
   "outputs": [
    {
     "data": {
      "text/plain": [
       "array([[ 2.09031831,  0.26949838,  1.01068208, -0.01473457],\n",
       "       [ 0.97102014, -1.37091811, -0.24574078, -1.48226723]])"
      ]
     },
     "execution_count": 41,
     "metadata": {},
     "output_type": "execute_result"
    }
   ],
   "source": [
    "data[names == 'Bob']"
   ]
  },
  {
   "cell_type": "code",
   "execution_count": 42,
   "metadata": {
    "ExecuteTime": {
     "end_time": "2020-08-19T06:26:14.975805Z",
     "start_time": "2020-08-19T06:26:14.958236Z"
    }
   },
   "outputs": [
    {
     "data": {
      "text/plain": [
       "array([[ 1.01068208, -0.01473457],\n",
       "       [-0.24574078, -1.48226723]])"
      ]
     },
     "execution_count": 42,
     "metadata": {},
     "output_type": "execute_result"
    }
   ],
   "source": [
    "data[names == 'Bob', 2:]"
   ]
  },
  {
   "cell_type": "code",
   "execution_count": 43,
   "metadata": {
    "ExecuteTime": {
     "end_time": "2020-08-19T06:26:14.995323Z",
     "start_time": "2020-08-19T06:26:14.979823Z"
    }
   },
   "outputs": [
    {
     "data": {
      "text/plain": [
       "array([-0.01473457, -1.48226723])"
      ]
     },
     "execution_count": 43,
     "metadata": {},
     "output_type": "execute_result"
    }
   ],
   "source": [
    "data[names == 'Bob', 3]"
   ]
  },
  {
   "cell_type": "code",
   "execution_count": 44,
   "metadata": {
    "ExecuteTime": {
     "end_time": "2020-08-19T06:26:15.021575Z",
     "start_time": "2020-08-19T06:26:14.998282Z"
    }
   },
   "outputs": [
    {
     "data": {
      "text/plain": [
       "array([False,  True,  True, False,  True,  True,  True])"
      ]
     },
     "execution_count": 44,
     "metadata": {},
     "output_type": "execute_result"
    }
   ],
   "source": [
    "names != 'Bob'"
   ]
  },
  {
   "cell_type": "code",
   "execution_count": 45,
   "metadata": {
    "ExecuteTime": {
     "end_time": "2020-08-19T06:26:15.041022Z",
     "start_time": "2020-08-19T06:26:15.026561Z"
    }
   },
   "outputs": [
    {
     "data": {
      "text/plain": [
       "array([[ 0.43845347, -0.13275649, -1.02161826,  0.63116872],\n",
       "       [ 0.72327547,  1.3398814 , -0.03078802,  0.90803894],\n",
       "       [ 1.13409202, -1.14578965, -1.81331728,  1.84400586],\n",
       "       [ 0.59215393,  0.06962328, -1.21443602,  0.80300541],\n",
       "       [-0.79445974, -0.75064998,  1.5072371 ,  0.97768724]])"
      ]
     },
     "execution_count": 45,
     "metadata": {},
     "output_type": "execute_result"
    }
   ],
   "source": [
    "data[~(names == 'Bob')]"
   ]
  },
  {
   "cell_type": "code",
   "execution_count": 46,
   "metadata": {
    "ExecuteTime": {
     "end_time": "2020-08-19T06:26:15.065228Z",
     "start_time": "2020-08-19T06:26:15.046006Z"
    }
   },
   "outputs": [
    {
     "data": {
      "text/plain": [
       "array([ True, False, False,  True, False, False, False])"
      ]
     },
     "execution_count": 46,
     "metadata": {},
     "output_type": "execute_result"
    }
   ],
   "source": [
    "cond = names == 'Bob'\n",
    "cond"
   ]
  },
  {
   "cell_type": "code",
   "execution_count": 47,
   "metadata": {
    "ExecuteTime": {
     "end_time": "2020-08-19T06:26:15.085534Z",
     "start_time": "2020-08-19T06:26:15.069211Z"
    }
   },
   "outputs": [
    {
     "data": {
      "text/plain": [
       "array([[ 0.43845347, -0.13275649, -1.02161826,  0.63116872],\n",
       "       [ 0.72327547,  1.3398814 , -0.03078802,  0.90803894],\n",
       "       [ 1.13409202, -1.14578965, -1.81331728,  1.84400586],\n",
       "       [ 0.59215393,  0.06962328, -1.21443602,  0.80300541],\n",
       "       [-0.79445974, -0.75064998,  1.5072371 ,  0.97768724]])"
      ]
     },
     "execution_count": 47,
     "metadata": {},
     "output_type": "execute_result"
    }
   ],
   "source": [
    "data[~cond]"
   ]
  },
  {
   "cell_type": "code",
   "execution_count": 48,
   "metadata": {
    "ExecuteTime": {
     "end_time": "2020-08-19T06:26:15.103745Z",
     "start_time": "2020-08-19T06:26:15.093513Z"
    }
   },
   "outputs": [
    {
     "data": {
      "text/plain": [
       "array([ True, False,  True,  True,  True, False, False])"
      ]
     },
     "execution_count": 48,
     "metadata": {},
     "output_type": "execute_result"
    }
   ],
   "source": [
    "mask = (names == 'Bob') | (names == 'Will')\n",
    "mask"
   ]
  },
  {
   "cell_type": "code",
   "execution_count": 49,
   "metadata": {
    "ExecuteTime": {
     "end_time": "2020-08-19T06:26:15.124163Z",
     "start_time": "2020-08-19T06:26:15.107732Z"
    }
   },
   "outputs": [
    {
     "data": {
      "text/plain": [
       "array([[ 2.09031831,  0.26949838,  1.01068208, -0.01473457],\n",
       "       [ 0.72327547,  1.3398814 , -0.03078802,  0.90803894],\n",
       "       [ 0.97102014, -1.37091811, -0.24574078, -1.48226723],\n",
       "       [ 1.13409202, -1.14578965, -1.81331728,  1.84400586]])"
      ]
     },
     "execution_count": 49,
     "metadata": {},
     "output_type": "execute_result"
    }
   ],
   "source": [
    "data[mask]"
   ]
  },
  {
   "cell_type": "code",
   "execution_count": 50,
   "metadata": {
    "ExecuteTime": {
     "end_time": "2020-08-19T06:26:15.141649Z",
     "start_time": "2020-08-19T06:26:15.128152Z"
    }
   },
   "outputs": [
    {
     "data": {
      "text/plain": [
       "array([-0.01473457, -0.13275649, -1.02161826, -0.03078802, -1.37091811,\n",
       "       -0.24574078, -1.48226723, -1.14578965, -1.81331728, -1.21443602,\n",
       "       -0.79445974, -0.75064998])"
      ]
     },
     "execution_count": 50,
     "metadata": {},
     "output_type": "execute_result"
    }
   ],
   "source": [
    "data[data < 0]"
   ]
  },
  {
   "cell_type": "code",
   "execution_count": 51,
   "metadata": {
    "ExecuteTime": {
     "end_time": "2020-08-19T06:26:15.162589Z",
     "start_time": "2020-08-19T06:26:15.148673Z"
    }
   },
   "outputs": [
    {
     "data": {
      "text/plain": [
       "array([[ 7.        ,  7.        ,  7.        ,  7.        ],\n",
       "       [ 0.43845347, -0.13275649, -1.02161826,  0.63116872],\n",
       "       [ 7.        ,  7.        ,  7.        ,  7.        ],\n",
       "       [ 7.        ,  7.        ,  7.        ,  7.        ],\n",
       "       [ 7.        ,  7.        ,  7.        ,  7.        ],\n",
       "       [ 0.59215393,  0.06962328, -1.21443602,  0.80300541],\n",
       "       [-0.79445974, -0.75064998,  1.5072371 ,  0.97768724]])"
      ]
     },
     "execution_count": 51,
     "metadata": {},
     "output_type": "execute_result"
    }
   ],
   "source": [
    "data[names != 'Joe'] = 7\n",
    "data "
   ]
  },
  {
   "cell_type": "code",
   "execution_count": 52,
   "metadata": {
    "ExecuteTime": {
     "end_time": "2020-08-19T06:26:15.184501Z",
     "start_time": "2020-08-19T06:26:15.168530Z"
    }
   },
   "outputs": [
    {
     "data": {
      "text/plain": [
       "array([[0., 0., 0., 0.],\n",
       "       [1., 1., 1., 1.],\n",
       "       [2., 2., 2., 2.],\n",
       "       [3., 3., 3., 3.],\n",
       "       [4., 4., 4., 4.],\n",
       "       [5., 5., 5., 5.],\n",
       "       [6., 6., 6., 6.],\n",
       "       [7., 7., 7., 7.]])"
      ]
     },
     "execution_count": 52,
     "metadata": {},
     "output_type": "execute_result"
    }
   ],
   "source": [
    "arr = np.empty((8, 4))\n",
    "for i in range(8):\n",
    "    arr[i] = i\n",
    "\n",
    "arr "
   ]
  },
  {
   "cell_type": "code",
   "execution_count": 53,
   "metadata": {
    "ExecuteTime": {
     "end_time": "2020-08-19T06:26:15.205322Z",
     "start_time": "2020-08-19T06:26:15.188388Z"
    }
   },
   "outputs": [
    {
     "data": {
      "text/plain": [
       "array([[4., 4., 4., 4.],\n",
       "       [3., 3., 3., 3.],\n",
       "       [0., 0., 0., 0.],\n",
       "       [6., 6., 6., 6.]])"
      ]
     },
     "execution_count": 53,
     "metadata": {},
     "output_type": "execute_result"
    }
   ],
   "source": [
    "arr[[4, 3, 0, 6]]"
   ]
  },
  {
   "cell_type": "code",
   "execution_count": 54,
   "metadata": {
    "ExecuteTime": {
     "end_time": "2020-08-19T06:26:15.226450Z",
     "start_time": "2020-08-19T06:26:15.209885Z"
    }
   },
   "outputs": [
    {
     "data": {
      "text/plain": [
       "array([[5., 5., 5., 5.],\n",
       "       [3., 3., 3., 3.],\n",
       "       [1., 1., 1., 1.]])"
      ]
     },
     "execution_count": 54,
     "metadata": {},
     "output_type": "execute_result"
    }
   ],
   "source": [
    "arr[[-3, -5, -7]]"
   ]
  },
  {
   "cell_type": "code",
   "execution_count": 55,
   "metadata": {
    "ExecuteTime": {
     "end_time": "2020-08-19T06:26:15.247338Z",
     "start_time": "2020-08-19T06:26:15.230155Z"
    }
   },
   "outputs": [
    {
     "data": {
      "text/plain": [
       "array([[ 0,  1,  2,  3],\n",
       "       [ 4,  5,  6,  7],\n",
       "       [ 8,  9, 10, 11],\n",
       "       [12, 13, 14, 15],\n",
       "       [16, 17, 18, 19],\n",
       "       [20, 21, 22, 23],\n",
       "       [24, 25, 26, 27],\n",
       "       [28, 29, 30, 31]])"
      ]
     },
     "execution_count": 55,
     "metadata": {},
     "output_type": "execute_result"
    }
   ],
   "source": [
    "arr = np.arange(32).reshape((8, 4))\n",
    "arr "
   ]
  },
  {
   "cell_type": "code",
   "execution_count": 56,
   "metadata": {
    "ExecuteTime": {
     "end_time": "2020-08-19T06:26:15.271847Z",
     "start_time": "2020-08-19T06:26:15.251636Z"
    }
   },
   "outputs": [
    {
     "data": {
      "text/plain": [
       "array([ 4, 23, 29, 10])"
      ]
     },
     "execution_count": 56,
     "metadata": {},
     "output_type": "execute_result"
    }
   ],
   "source": [
    "arr[[1, 5, 7, 2], [0, 3, 1, 2]]"
   ]
  },
  {
   "cell_type": "code",
   "execution_count": 57,
   "metadata": {
    "ExecuteTime": {
     "end_time": "2020-08-19T06:26:15.300729Z",
     "start_time": "2020-08-19T06:26:15.281761Z"
    }
   },
   "outputs": [
    {
     "data": {
      "text/plain": [
       "array([[ 0,  1,  2,  3],\n",
       "       [ 4,  5,  6,  7],\n",
       "       [ 8,  9, 10, 11],\n",
       "       [12, 13, 14, 15],\n",
       "       [16, 17, 18, 19],\n",
       "       [20, 21, 22, 23],\n",
       "       [24, 25, 26, 27],\n",
       "       [28, 29, 30, 31]])"
      ]
     },
     "execution_count": 57,
     "metadata": {},
     "output_type": "execute_result"
    }
   ],
   "source": [
    "arr"
   ]
  },
  {
   "cell_type": "code",
   "execution_count": 58,
   "metadata": {
    "ExecuteTime": {
     "end_time": "2020-08-19T06:26:15.333375Z",
     "start_time": "2020-08-19T06:26:15.304751Z"
    }
   },
   "outputs": [
    {
     "data": {
      "text/plain": [
       "array([[ 4,  7,  5,  6],\n",
       "       [20, 23, 21, 22],\n",
       "       [28, 31, 29, 30],\n",
       "       [ 8, 11,  9, 10]])"
      ]
     },
     "execution_count": 58,
     "metadata": {},
     "output_type": "execute_result"
    }
   ],
   "source": [
    "arr[[1, 5, 7, 2]][:, [0, 3, 1, 2]]"
   ]
  },
  {
   "cell_type": "code",
   "execution_count": 59,
   "metadata": {
    "ExecuteTime": {
     "end_time": "2020-08-19T06:26:15.639689Z",
     "start_time": "2020-08-19T06:26:15.336627Z"
    }
   },
   "outputs": [
    {
     "data": {
      "text/plain": [
       "array([[ 0,  1,  2,  3,  4],\n",
       "       [ 5,  6,  7,  8,  9],\n",
       "       [10, 11, 12, 13, 14]])"
      ]
     },
     "execution_count": 59,
     "metadata": {},
     "output_type": "execute_result"
    }
   ],
   "source": [
    "arr = np.arange(15).reshape((3, 5))\n",
    "arr "
   ]
  },
  {
   "cell_type": "code",
   "execution_count": 60,
   "metadata": {
    "ExecuteTime": {
     "end_time": "2020-08-19T06:26:15.667926Z",
     "start_time": "2020-08-19T06:26:15.643083Z"
    }
   },
   "outputs": [
    {
     "data": {
      "text/plain": [
       "array([[ 0.08894405, -0.2054207 ,  0.38961357],\n",
       "       [ 1.08031487, -0.32453808, -1.28594475],\n",
       "       [-0.27691654, -0.22104421, -2.88334419],\n",
       "       [-0.36285609, -0.62139069,  1.21299977],\n",
       "       [ 0.77016114, -0.0206302 ,  0.14836421],\n",
       "       [-0.14370533,  0.97730405, -0.40984692]])"
      ]
     },
     "execution_count": 60,
     "metadata": {},
     "output_type": "execute_result"
    }
   ],
   "source": [
    "arr = np.random.randn(6, 3)\n",
    "arr "
   ]
  },
  {
   "cell_type": "code",
   "execution_count": 61,
   "metadata": {
    "ExecuteTime": {
     "end_time": "2020-08-19T06:26:15.688004Z",
     "start_time": "2020-08-19T06:26:15.672776Z"
    }
   },
   "outputs": [
    {
     "data": {
      "text/plain": [
       "array([[ 1.99713797, -0.23852044, -0.82310856],\n",
       "       [-0.23852044,  1.53805838, -0.18270271],\n",
       "       [-0.82310856, -0.18270271, 11.78048122]])"
      ]
     },
     "execution_count": 61,
     "metadata": {},
     "output_type": "execute_result"
    }
   ],
   "source": [
    "np.dot(arr.T, arr)"
   ]
  },
  {
   "cell_type": "code",
   "execution_count": 62,
   "metadata": {
    "ExecuteTime": {
     "end_time": "2020-08-19T06:26:15.709510Z",
     "start_time": "2020-08-19T06:26:15.690981Z"
    }
   },
   "outputs": [
    {
     "data": {
      "text/plain": [
       "array([[[ 0,  1,  2,  3],\n",
       "        [ 4,  5,  6,  7]],\n",
       "\n",
       "       [[ 8,  9, 10, 11],\n",
       "        [12, 13, 14, 15]]])"
      ]
     },
     "execution_count": 62,
     "metadata": {},
     "output_type": "execute_result"
    }
   ],
   "source": [
    "arr = np.arange(16).reshape((2, 2, 4))\n",
    "arr"
   ]
  },
  {
   "cell_type": "code",
   "execution_count": 63,
   "metadata": {
    "ExecuteTime": {
     "end_time": "2020-08-19T06:26:15.728620Z",
     "start_time": "2020-08-19T06:26:15.714591Z"
    }
   },
   "outputs": [
    {
     "data": {
      "text/plain": [
       "array([[[ 0,  1,  2,  3],\n",
       "        [ 8,  9, 10, 11]],\n",
       "\n",
       "       [[ 4,  5,  6,  7],\n",
       "        [12, 13, 14, 15]]])"
      ]
     },
     "execution_count": 63,
     "metadata": {},
     "output_type": "execute_result"
    }
   ],
   "source": [
    "arr.transpose((1, 0, 2))"
   ]
  },
  {
   "cell_type": "code",
   "execution_count": 64,
   "metadata": {
    "ExecuteTime": {
     "end_time": "2020-08-19T06:26:15.749336Z",
     "start_time": "2020-08-19T06:26:15.734804Z"
    }
   },
   "outputs": [
    {
     "data": {
      "text/plain": [
       "array([[[ 0,  4],\n",
       "        [ 1,  5],\n",
       "        [ 2,  6],\n",
       "        [ 3,  7]],\n",
       "\n",
       "       [[ 8, 12],\n",
       "        [ 9, 13],\n",
       "        [10, 14],\n",
       "        [11, 15]]])"
      ]
     },
     "execution_count": 64,
     "metadata": {},
     "output_type": "execute_result"
    }
   ],
   "source": [
    "arr.swapaxes(1, 2)"
   ]
  },
  {
   "cell_type": "code",
   "execution_count": 65,
   "metadata": {
    "ExecuteTime": {
     "end_time": "2020-08-19T06:26:15.770637Z",
     "start_time": "2020-08-19T06:26:15.752399Z"
    }
   },
   "outputs": [
    {
     "name": "stdout",
     "output_type": "stream",
     "text": [
      "[0.         1.         1.41421356 1.73205081 2.         2.23606798\n",
      " 2.44948974 2.64575131 2.82842712 3.        ]\n",
      "[1.00000000e+00 2.71828183e+00 7.38905610e+00 2.00855369e+01\n",
      " 5.45981500e+01 1.48413159e+02 4.03428793e+02 1.09663316e+03\n",
      " 2.98095799e+03 8.10308393e+03]\n",
      "\n"
     ]
    }
   ],
   "source": [
    "arr = np.arange(10)\n",
    "print(np.sqrt(arr))\n",
    "print(np.exp(arr))\n",
    "print()"
   ]
  },
  {
   "cell_type": "code",
   "execution_count": 66,
   "metadata": {
    "ExecuteTime": {
     "end_time": "2020-08-19T06:26:15.800680Z",
     "start_time": "2020-08-19T06:26:15.775543Z"
    }
   },
   "outputs": [
    {
     "name": "stdout",
     "output_type": "stream",
     "text": [
      "[ 0.02008864  0.91019132 -0.42952695  0.63830385  0.95087515 -1.46423485\n",
      " -0.54948729  0.10442762] \n",
      " [-0.13659004 -1.19147478 -0.09634918  1.69584367  1.54830145  0.56694458\n",
      "  0.69743591  0.23783699]\n"
     ]
    },
    {
     "data": {
      "text/plain": [
       "array([ 0.02008864,  0.91019132, -0.09634918,  1.69584367,  1.54830145,\n",
       "        0.56694458,  0.69743591,  0.23783699])"
      ]
     },
     "execution_count": 66,
     "metadata": {},
     "output_type": "execute_result"
    }
   ],
   "source": [
    "x = np.random.randn(8)\n",
    "y = np.random.randn(8)\n",
    "print(x, '\\n', y)\n",
    "np.maximum(x,y)"
   ]
  },
  {
   "cell_type": "code",
   "execution_count": 67,
   "metadata": {
    "ExecuteTime": {
     "end_time": "2020-08-19T06:26:15.827408Z",
     "start_time": "2020-08-19T06:26:15.808196Z"
    }
   },
   "outputs": [
    {
     "name": "stdout",
     "output_type": "stream",
     "text": [
      "[-1.9563449  -7.24563958  0.24396309  9.30709742 -0.7311555  -9.78274407\n",
      "  4.99459042]\n"
     ]
    },
    {
     "data": {
      "text/plain": [
       "(array([-0.9563449 , -0.24563958,  0.24396309,  0.30709742, -0.7311555 ,\n",
       "        -0.78274407,  0.99459042]), array([-1., -7.,  0.,  9., -0., -9.,  4.]))"
      ]
     },
     "execution_count": 67,
     "metadata": {},
     "output_type": "execute_result"
    }
   ],
   "source": [
    "arr = np.random.randn(7) * 5\n",
    "print(arr)\n",
    "remainder, whole_part = np.modf(arr)\n",
    "remainder, whole_part"
   ]
  },
  {
   "cell_type": "code",
   "execution_count": 68,
   "metadata": {
    "ExecuteTime": {
     "end_time": "2020-08-19T06:26:15.850326Z",
     "start_time": "2020-08-19T06:26:15.834701Z"
    }
   },
   "outputs": [
    {
     "name": "stdout",
     "output_type": "stream",
     "text": [
      "[-1.9563449  -7.24563958  0.24396309  9.30709742 -0.7311555  -9.78274407\n",
      "  4.99459042]\n",
      "[       nan        nan 0.4939262  3.05075358        nan        nan\n",
      " 2.23485803]\n"
     ]
    },
    {
     "name": "stderr",
     "output_type": "stream",
     "text": [
      "E:\\anaconda\\lib\\site-packages\\ipykernel_launcher.py:2: RuntimeWarning: invalid value encountered in sqrt\n",
      "  \n"
     ]
    }
   ],
   "source": [
    "print(arr)\n",
    "print(np.sqrt(arr))\n"
   ]
  },
  {
   "cell_type": "code",
   "execution_count": 69,
   "metadata": {
    "ExecuteTime": {
     "end_time": "2020-08-19T06:26:15.877823Z",
     "start_time": "2020-08-19T06:26:15.854486Z"
    }
   },
   "outputs": [
    {
     "data": {
      "text/plain": [
       "(array([[-5.  , -4.99, -4.98, ...,  4.97,  4.98,  4.99],\n",
       "        [-5.  , -4.99, -4.98, ...,  4.97,  4.98,  4.99],\n",
       "        [-5.  , -4.99, -4.98, ...,  4.97,  4.98,  4.99],\n",
       "        ...,\n",
       "        [-5.  , -4.99, -4.98, ...,  4.97,  4.98,  4.99],\n",
       "        [-5.  , -4.99, -4.98, ...,  4.97,  4.98,  4.99],\n",
       "        [-5.  , -4.99, -4.98, ...,  4.97,  4.98,  4.99]]),\n",
       " array([[-5.  , -5.  , -5.  , ..., -5.  , -5.  , -5.  ],\n",
       "        [-4.99, -4.99, -4.99, ..., -4.99, -4.99, -4.99],\n",
       "        [-4.98, -4.98, -4.98, ..., -4.98, -4.98, -4.98],\n",
       "        ...,\n",
       "        [ 4.97,  4.97,  4.97, ...,  4.97,  4.97,  4.97],\n",
       "        [ 4.98,  4.98,  4.98, ...,  4.98,  4.98,  4.98],\n",
       "        [ 4.99,  4.99,  4.99, ...,  4.99,  4.99,  4.99]]))"
      ]
     },
     "execution_count": 69,
     "metadata": {},
     "output_type": "execute_result"
    }
   ],
   "source": [
    "points = np.arange(-5, 5, 0.01)\n",
    "xs, ys = np.meshgrid(points, points)\n",
    "xs, ys"
   ]
  },
  {
   "cell_type": "code",
   "execution_count": 70,
   "metadata": {
    "ExecuteTime": {
     "end_time": "2020-08-19T06:26:15.926527Z",
     "start_time": "2020-08-19T06:26:15.881452Z"
    }
   },
   "outputs": [],
   "source": [
    "z = np.sqrt(xs ** 2 + ys ** 2)"
   ]
  },
  {
   "cell_type": "code",
   "execution_count": 71,
   "metadata": {
    "ExecuteTime": {
     "end_time": "2020-08-19T06:26:18.171600Z",
     "start_time": "2020-08-19T06:26:15.932693Z"
    }
   },
   "outputs": [
    {
     "data": {
      "text/plain": [
       "Text(0.5, 1.0, 'Image plot of $\\\\sqrt{x^2 + y^2}$ for a grid of values')"
      ]
     },
     "execution_count": 71,
     "metadata": {},
     "output_type": "execute_result"
    }
   ],
   "source": [
    "import matplotlib.pyplot as plt\n",
    "plt.imshow(z, cmap=plt.cm.gray); plt.colorbar()\n",
    "plt.title(\"Image plot of $\\sqrt{x^2 + y^2}$ for a grid of values\")\n"
   ]
  },
  {
   "cell_type": "code",
   "execution_count": 72,
   "metadata": {
    "ExecuteTime": {
     "end_time": "2020-08-19T06:26:18.185603Z",
     "start_time": "2020-08-19T06:26:18.175225Z"
    }
   },
   "outputs": [
    {
     "data": {
      "text/plain": [
       "[1.1, 2.2, 1.3, 1.4, 2.5]"
      ]
     },
     "execution_count": 72,
     "metadata": {},
     "output_type": "execute_result"
    }
   ],
   "source": [
    "xarr = np.array([1.1, 1.2, 1.3, 1.4, 1.5])\n",
    "yarr = np.array([2.1, 2.2, 2.3, 2.4, 2.5])\n",
    "cond = np.array([True, False, True, True, False])\n",
    "result = [(x if c else y) for x, y, c in zip(xarr, yarr, cond)]\n",
    "result"
   ]
  },
  {
   "cell_type": "code",
   "execution_count": 73,
   "metadata": {
    "ExecuteTime": {
     "end_time": "2020-08-19T06:26:18.214062Z",
     "start_time": "2020-08-19T06:26:18.193114Z"
    }
   },
   "outputs": [
    {
     "name": "stdout",
     "output_type": "stream",
     "text": [
      "1.1 2.1 True\n",
      "1.2 2.2 False\n",
      "1.3 2.3 True\n",
      "1.4 2.4 True\n",
      "1.5 2.5 False\n"
     ]
    }
   ],
   "source": [
    "for x, y, c in zip(xarr, yarr, cond):\n",
    "    print(x, y, c)"
   ]
  },
  {
   "cell_type": "code",
   "execution_count": 74,
   "metadata": {
    "ExecuteTime": {
     "end_time": "2020-08-19T06:26:18.237022Z",
     "start_time": "2020-08-19T06:26:18.222559Z"
    }
   },
   "outputs": [
    {
     "data": {
      "text/plain": [
       "array([1.1, 2.2, 1.3, 1.4, 2.5])"
      ]
     },
     "execution_count": 74,
     "metadata": {},
     "output_type": "execute_result"
    }
   ],
   "source": [
    "result = np.where(cond, xarr, yarr)\n",
    "result"
   ]
  },
  {
   "cell_type": "code",
   "execution_count": 75,
   "metadata": {
    "ExecuteTime": {
     "end_time": "2020-08-19T06:26:18.262879Z",
     "start_time": "2020-08-19T06:26:18.241315Z"
    }
   },
   "outputs": [
    {
     "name": "stdout",
     "output_type": "stream",
     "text": [
      "[[-0.23908223 -0.66434075  0.45228598  0.83432654]\n",
      " [-0.31705206  1.05254652 -0.98098485  1.03032779]\n",
      " [ 0.39071894  0.29322341  1.20284229  1.03633137]\n",
      " [ 1.8075048   0.10035598 -0.96335923 -0.81894093]]\n",
      "[[False False  True  True]\n",
      " [False  True False  True]\n",
      " [ True  True  True  True]\n",
      " [ True  True False False]]\n"
     ]
    },
    {
     "data": {
      "text/plain": [
       "array([[-2, -2,  2,  2],\n",
       "       [-2,  2, -2,  2],\n",
       "       [ 2,  2,  2,  2],\n",
       "       [ 2,  2, -2, -2]])"
      ]
     },
     "execution_count": 75,
     "metadata": {},
     "output_type": "execute_result"
    }
   ],
   "source": [
    "arr = np.random.randn(4, 4)\n",
    "print(arr)\n",
    "print(arr > 0)\n",
    "np.where(arr > 0, 2, -2)"
   ]
  },
  {
   "cell_type": "code",
   "execution_count": 76,
   "metadata": {
    "ExecuteTime": {
     "end_time": "2020-08-19T06:26:18.279708Z",
     "start_time": "2020-08-19T06:26:18.267536Z"
    }
   },
   "outputs": [
    {
     "data": {
      "text/plain": [
       "array([[-0.23908223, -0.66434075,  2.        ,  2.        ],\n",
       "       [-0.31705206,  2.        , -0.98098485,  2.        ],\n",
       "       [ 2.        ,  2.        ,  2.        ,  2.        ],\n",
       "       [ 2.        ,  2.        , -0.96335923, -0.81894093]])"
      ]
     },
     "execution_count": 76,
     "metadata": {},
     "output_type": "execute_result"
    }
   ],
   "source": [
    "np.where(arr > 0, 2, arr)"
   ]
  },
  {
   "cell_type": "code",
   "execution_count": 77,
   "metadata": {
    "ExecuteTime": {
     "end_time": "2020-08-19T06:26:18.298743Z",
     "start_time": "2020-08-19T06:26:18.283212Z"
    }
   },
   "outputs": [
    {
     "name": "stdout",
     "output_type": "stream",
     "text": [
      "-0.13152452668322573 -2.6304905336645144 -0.13152452668322573\n"
     ]
    }
   ],
   "source": [
    "arr = np.random.randn(5, 4)\n",
    "print(arr.mean(),arr.sum(),np.mean(arr))"
   ]
  },
  {
   "cell_type": "code",
   "execution_count": 78,
   "metadata": {
    "ExecuteTime": {
     "end_time": "2020-08-19T06:26:18.318857Z",
     "start_time": "2020-08-19T06:26:18.301692Z"
    }
   },
   "outputs": [
    {
     "data": {
      "text/plain": [
       "array([ 0.41974027, -0.41222048, -0.5938131 ,  0.84079301, -0.91212233])"
      ]
     },
     "execution_count": 78,
     "metadata": {},
     "output_type": "execute_result"
    }
   ],
   "source": [
    "arr.mean(axis=1)"
   ]
  },
  {
   "cell_type": "code",
   "execution_count": 79,
   "metadata": {
    "ExecuteTime": {
     "end_time": "2020-08-19T06:26:18.339605Z",
     "start_time": "2020-08-19T06:26:18.325766Z"
    }
   },
   "outputs": [
    {
     "data": {
      "text/plain": [
       "array([-0.41052733,  0.06792983, -0.4291167 ,  0.24561609])"
      ]
     },
     "execution_count": 79,
     "metadata": {},
     "output_type": "execute_result"
    }
   ],
   "source": [
    "arr.mean(axis=0)"
   ]
  },
  {
   "cell_type": "code",
   "execution_count": 80,
   "metadata": {
    "ExecuteTime": {
     "end_time": "2020-08-19T06:26:18.362435Z",
     "start_time": "2020-08-19T06:26:18.354455Z"
    }
   },
   "outputs": [
    {
     "data": {
      "text/plain": [
       "array([ 0,  1,  3,  6, 10, 15, 21, 28], dtype=int32)"
      ]
     },
     "execution_count": 80,
     "metadata": {},
     "output_type": "execute_result"
    }
   ],
   "source": [
    "arr = np.array([0, 1, 2, 3, 4, 5, 6, 7])\n",
    "arr.cumsum()\n"
   ]
  },
  {
   "cell_type": "code",
   "execution_count": 81,
   "metadata": {
    "ExecuteTime": {
     "end_time": "2020-08-19T06:26:18.387291Z",
     "start_time": "2020-08-19T06:26:18.369774Z"
    }
   },
   "outputs": [
    {
     "name": "stdout",
     "output_type": "stream",
     "text": [
      "[[0 1 2]\n",
      " [3 4 5]\n",
      " [6 7 8]]\n",
      "[[ 0  1  3]\n",
      " [ 3  7 12]\n",
      " [ 6 13 21]]\n",
      "[[ 0  1  2]\n",
      " [ 3  5  7]\n",
      " [ 9 12 15]]\n"
     ]
    }
   ],
   "source": [
    "arr = np.array([[0, 1, 2], [3, 4, 5], [6, 7, 8]])\n",
    "print(arr)\n",
    "print(arr.cumsum(axis=1))\n",
    "print(arr.cumsum(axis=0))"
   ]
  },
  {
   "cell_type": "code",
   "execution_count": 82,
   "metadata": {
    "ExecuteTime": {
     "end_time": "2020-08-19T06:26:18.421070Z",
     "start_time": "2020-08-19T06:26:18.401281Z"
    }
   },
   "outputs": [
    {
     "name": "stdout",
     "output_type": "stream",
     "text": [
      "[[0 1 2]\n",
      " [3 4 5]\n",
      " [6 7 8]]\n",
      "[[  0   0   0]\n",
      " [  3  12  60]\n",
      " [  6  42 336]]\n",
      "[[ 0  1  2]\n",
      " [ 0  4 10]\n",
      " [ 0 28 80]]\n"
     ]
    }
   ],
   "source": [
    "arr = np.array([[0, 1, 2], [3, 4, 5], [6, 7, 8]])\n",
    "print(arr)\n",
    "print(arr.cumprod(axis=1))\n",
    "print(arr.cumprod(axis=0))"
   ]
  },
  {
   "cell_type": "code",
   "execution_count": 83,
   "metadata": {
    "ExecuteTime": {
     "end_time": "2020-08-19T06:26:18.439780Z",
     "start_time": "2020-08-19T06:26:18.425061Z"
    }
   },
   "outputs": [
    {
     "data": {
      "text/plain": [
       "57"
      ]
     },
     "execution_count": 83,
     "metadata": {},
     "output_type": "execute_result"
    }
   ],
   "source": [
    "arr = np.random.randn(100)\n",
    "(arr > 0).sum()"
   ]
  },
  {
   "cell_type": "code",
   "execution_count": 84,
   "metadata": {
    "ExecuteTime": {
     "end_time": "2020-08-19T06:26:18.458678Z",
     "start_time": "2020-08-19T06:26:18.444387Z"
    }
   },
   "outputs": [
    {
     "data": {
      "text/plain": [
       "True"
      ]
     },
     "execution_count": 84,
     "metadata": {},
     "output_type": "execute_result"
    }
   ],
   "source": [
    "bools = np.array([False, False, True, False])\n",
    "bools.any()"
   ]
  },
  {
   "cell_type": "code",
   "execution_count": 85,
   "metadata": {
    "ExecuteTime": {
     "end_time": "2020-08-19T06:26:18.480505Z",
     "start_time": "2020-08-19T06:26:18.462983Z"
    }
   },
   "outputs": [
    {
     "data": {
      "text/plain": [
       "False"
      ]
     },
     "execution_count": 85,
     "metadata": {},
     "output_type": "execute_result"
    }
   ],
   "source": [
    "bools.all()"
   ]
  },
  {
   "cell_type": "code",
   "execution_count": 86,
   "metadata": {
    "ExecuteTime": {
     "end_time": "2020-08-19T06:26:18.500128Z",
     "start_time": "2020-08-19T06:26:18.484107Z"
    }
   },
   "outputs": [
    {
     "data": {
      "text/plain": [
       "True"
      ]
     },
     "execution_count": 86,
     "metadata": {},
     "output_type": "execute_result"
    }
   ],
   "source": [
    "arr.all()"
   ]
  },
  {
   "cell_type": "code",
   "execution_count": 87,
   "metadata": {
    "ExecuteTime": {
     "end_time": "2020-08-19T06:26:18.519242Z",
     "start_time": "2020-08-19T06:26:18.503724Z"
    }
   },
   "outputs": [
    {
     "name": "stdout",
     "output_type": "stream",
     "text": [
      "[ 1.0636396  -0.53245921  0.13412032 -0.08747529  0.65528094 -0.3098384 ]\n",
      "[-0.53245921 -0.3098384  -0.08747529  0.13412032  0.65528094  1.0636396 ]\n"
     ]
    }
   ],
   "source": [
    "arr = np.random.randn(6)\n",
    "print(arr)\n",
    "arr.sort()\n",
    "print(arr)"
   ]
  },
  {
   "cell_type": "code",
   "execution_count": 88,
   "metadata": {
    "ExecuteTime": {
     "end_time": "2020-08-19T06:26:18.540723Z",
     "start_time": "2020-08-19T06:26:18.523559Z"
    }
   },
   "outputs": [
    {
     "name": "stdout",
     "output_type": "stream",
     "text": [
      "[[ 0.64850809  1.22383567  1.52491009]\n",
      " [-1.15229962 -0.66680034 -0.89422713]\n",
      " [ 0.6567543   0.5312571   1.70072097]\n",
      " [ 0.7323919  -1.12236765 -0.79207276]\n",
      " [ 3.15537109  1.5856726   0.40363879]]\n",
      "[[ 0.64850809  1.22383567  1.52491009]\n",
      " [-1.15229962 -0.89422713 -0.66680034]\n",
      " [ 0.5312571   0.6567543   1.70072097]\n",
      " [-1.12236765 -0.79207276  0.7323919 ]\n",
      " [ 0.40363879  1.5856726   3.15537109]]\n"
     ]
    }
   ],
   "source": [
    "arr = np.random.randn(5, 3)\n",
    "print(arr)\n",
    "arr.sort(1)\n",
    "print(arr)"
   ]
  },
  {
   "cell_type": "code",
   "execution_count": 89,
   "metadata": {
    "ExecuteTime": {
     "end_time": "2020-08-19T06:26:18.564096Z",
     "start_time": "2020-08-19T06:26:18.545084Z"
    }
   },
   "outputs": [
    {
     "name": "stdout",
     "output_type": "stream",
     "text": [
      "[[ 0.14743854  0.2532003  -0.22708388]\n",
      " [-0.23849375  2.37325681 -0.9076851 ]\n",
      " [-0.28842159  0.16610461  0.66568963]\n",
      " [ 0.27096784  0.96095575  0.78661921]\n",
      " [-0.67187696  1.70059507  0.69449554]]\n",
      "[[-0.67187696  0.16610461 -0.9076851 ]\n",
      " [-0.28842159  0.2532003  -0.22708388]\n",
      " [-0.23849375  0.96095575  0.66568963]\n",
      " [ 0.14743854  1.70059507  0.69449554]\n",
      " [ 0.27096784  2.37325681  0.78661921]]\n"
     ]
    }
   ],
   "source": [
    "arr = np.random.randn(5, 3)\n",
    "print(arr)\n",
    "arr.sort(0)\n",
    "print(arr)"
   ]
  },
  {
   "cell_type": "code",
   "execution_count": 90,
   "metadata": {
    "ExecuteTime": {
     "end_time": "2020-08-19T06:26:18.584219Z",
     "start_time": "2020-08-19T06:26:18.573246Z"
    }
   },
   "outputs": [
    {
     "data": {
      "text/plain": [
       "-1.6122967296556583"
      ]
     },
     "execution_count": 90,
     "metadata": {},
     "output_type": "execute_result"
    }
   ],
   "source": [
    "large_arr = np.random.randn(1000)\n",
    "large_arr.sort()\n",
    "large_arr[int(0.05 * len(large_arr))]"
   ]
  },
  {
   "cell_type": "code",
   "execution_count": 91,
   "metadata": {
    "ExecuteTime": {
     "end_time": "2020-08-19T06:26:18.608174Z",
     "start_time": "2020-08-19T06:26:18.588205Z"
    }
   },
   "outputs": [
    {
     "name": "stdout",
     "output_type": "stream",
     "text": [
      "['Bob' 'Joe' 'Will' 'Bob' 'Will' 'Joe' 'Joe']\n"
     ]
    },
    {
     "data": {
      "text/plain": [
       "array(['Bob', 'Joe', 'Will'], dtype='<U4')"
      ]
     },
     "execution_count": 91,
     "metadata": {},
     "output_type": "execute_result"
    }
   ],
   "source": [
    "names = np.array(['Bob', 'Joe', 'Will', 'Bob', 'Will', 'Joe', 'Joe'])\n",
    "print(names)\n",
    "np.unique(names)"
   ]
  },
  {
   "cell_type": "code",
   "execution_count": 92,
   "metadata": {
    "ExecuteTime": {
     "end_time": "2020-08-19T06:26:18.627770Z",
     "start_time": "2020-08-19T06:26:18.612374Z"
    }
   },
   "outputs": [
    {
     "data": {
      "text/plain": [
       "array([1, 2, 3, 4])"
      ]
     },
     "execution_count": 92,
     "metadata": {},
     "output_type": "execute_result"
    }
   ],
   "source": [
    "ints = np.array([3, 3, 3, 2, 2, 1, 1, 4, 4])\n",
    "np.unique(ints)"
   ]
  },
  {
   "cell_type": "code",
   "execution_count": 93,
   "metadata": {
    "ExecuteTime": {
     "end_time": "2020-08-19T06:26:18.643697Z",
     "start_time": "2020-08-19T06:26:18.631605Z"
    }
   },
   "outputs": [
    {
     "data": {
      "text/plain": [
       "['Bob', 'Joe', 'Will']"
      ]
     },
     "execution_count": 93,
     "metadata": {},
     "output_type": "execute_result"
    }
   ],
   "source": [
    "sorted(set(names))"
   ]
  },
  {
   "cell_type": "code",
   "execution_count": 94,
   "metadata": {
    "ExecuteTime": {
     "end_time": "2020-08-19T06:26:18.663251Z",
     "start_time": "2020-08-19T06:26:18.651670Z"
    }
   },
   "outputs": [
    {
     "data": {
      "text/plain": [
       "array([ True, False, False,  True,  True, False,  True])"
      ]
     },
     "execution_count": 94,
     "metadata": {},
     "output_type": "execute_result"
    }
   ],
   "source": [
    "values = np.array([6, 0, 0, 3, 2, 5, 6])\n",
    "np.in1d(values, [2, 3, 6])"
   ]
  },
  {
   "cell_type": "code",
   "execution_count": 95,
   "metadata": {
    "ExecuteTime": {
     "end_time": "2020-08-19T06:26:18.706628Z",
     "start_time": "2020-08-19T06:26:18.667239Z"
    }
   },
   "outputs": [
    {
     "data": {
      "text/plain": [
       "array([0, 1, 2, 3, 4, 5, 6, 7, 8, 9])"
      ]
     },
     "execution_count": 95,
     "metadata": {},
     "output_type": "execute_result"
    }
   ],
   "source": [
    "arr = np.arange(10)\n",
    "np.save('some_array', arr)\n",
    "np.load('some_array.npy')"
   ]
  },
  {
   "cell_type": "code",
   "execution_count": 96,
   "metadata": {
    "ExecuteTime": {
     "end_time": "2020-08-19T06:26:18.915279Z",
     "start_time": "2020-08-19T06:26:18.711613Z"
    }
   },
   "outputs": [
    {
     "data": {
      "text/plain": [
       "array([0, 1, 2, 3, 4, 5, 6, 7, 8, 9])"
      ]
     },
     "execution_count": 96,
     "metadata": {},
     "output_type": "execute_result"
    }
   ],
   "source": [
    "np.savez('array_archive.npz', a=arr, b=arr)\n",
    "arch = np.load('array_archive.npz')\n",
    "arch['b']"
   ]
  },
  {
   "cell_type": "code",
   "execution_count": 97,
   "metadata": {
    "ExecuteTime": {
     "end_time": "2020-08-19T06:26:18.927595Z",
     "start_time": "2020-08-19T06:26:18.918555Z"
    }
   },
   "outputs": [],
   "source": [
    "np.savez_compressed('arrays_compressed.npz', a=arr, b=arr)"
   ]
  },
  {
   "cell_type": "code",
   "execution_count": 98,
   "metadata": {
    "ExecuteTime": {
     "end_time": "2020-08-19T06:26:18.947026Z",
     "start_time": "2020-08-19T06:26:18.935572Z"
    }
   },
   "outputs": [
    {
     "data": {
      "text/plain": [
       "array([[ 28.,  64.],\n",
       "       [ 67., 181.]])"
      ]
     },
     "execution_count": 98,
     "metadata": {},
     "output_type": "execute_result"
    }
   ],
   "source": [
    "x = np.array([[1., 2., 3.], [4., 5., 6.]])\n",
    "y = np.array([[6., 23.], [-1, 7], [8, 9]])\n",
    "x.dot(y)"
   ]
  },
  {
   "cell_type": "code",
   "execution_count": 99,
   "metadata": {
    "ExecuteTime": {
     "end_time": "2020-08-19T06:26:18.976545Z",
     "start_time": "2020-08-19T06:26:18.949973Z"
    }
   },
   "outputs": [
    {
     "data": {
      "text/plain": [
       "array([[ 28.,  64.],\n",
       "       [ 67., 181.]])"
      ]
     },
     "execution_count": 99,
     "metadata": {},
     "output_type": "execute_result"
    }
   ],
   "source": [
    "np.dot(x, y)"
   ]
  },
  {
   "cell_type": "code",
   "execution_count": 100,
   "metadata": {
    "ExecuteTime": {
     "end_time": "2020-08-19T06:26:18.996944Z",
     "start_time": "2020-08-19T06:26:18.983343Z"
    }
   },
   "outputs": [
    {
     "data": {
      "text/plain": [
       "array([ 6., 15.])"
      ]
     },
     "execution_count": 100,
     "metadata": {},
     "output_type": "execute_result"
    }
   ],
   "source": [
    "np.dot(x, np.ones(3))"
   ]
  },
  {
   "cell_type": "code",
   "execution_count": 101,
   "metadata": {
    "ExecuteTime": {
     "end_time": "2020-08-19T06:26:19.024513Z",
     "start_time": "2020-08-19T06:26:19.007294Z"
    }
   },
   "outputs": [
    {
     "data": {
      "text/plain": [
       "array([ 6., 15.])"
      ]
     },
     "execution_count": 101,
     "metadata": {},
     "output_type": "execute_result"
    }
   ],
   "source": [
    "x @ np.ones(3)"
   ]
  },
  {
   "cell_type": "code",
   "execution_count": 102,
   "metadata": {
    "ExecuteTime": {
     "end_time": "2020-08-19T06:26:19.075201Z",
     "start_time": "2020-08-19T06:26:19.030032Z"
    }
   },
   "outputs": [
    {
     "data": {
      "text/plain": [
       "array([[ 2831.86303222,   374.98357298,  1183.08272824, -1899.01389111,\n",
       "         2464.06643014],\n",
       "       [  374.98357298,    50.17652815,   156.79776329,  -251.48037732,\n",
       "          326.29387897],\n",
       "       [ 1183.08272824,   156.79776329,   494.79969867,  -793.57448919,\n",
       "         1029.70529438],\n",
       "       [-1899.01389111,  -251.48037732,  -793.57448919,  1273.88259961,\n",
       "        -1652.63450796],\n",
       "       [ 2464.06643014,   326.29387897,  1029.70529438, -1652.63450796,\n",
       "         2144.45557972]])"
      ]
     },
     "execution_count": 102,
     "metadata": {},
     "output_type": "execute_result"
    }
   ],
   "source": [
    "from numpy.linalg import inv, qr\n",
    "X = np.random.randn(5, 5)\n",
    "mat = X.T.dot(X)\n",
    "inv(mat)"
   ]
  },
  {
   "cell_type": "code",
   "execution_count": 103,
   "metadata": {
    "ExecuteTime": {
     "end_time": "2020-08-19T06:26:19.089246Z",
     "start_time": "2020-08-19T06:26:19.081393Z"
    }
   },
   "outputs": [
    {
     "data": {
      "text/plain": [
       "array([[ 1.00000000e+00, -7.40462253e-14,  1.35354642e-13,\n",
       "        -4.59629625e-13, -1.81580839e-12],\n",
       "       [-3.47277990e-13,  1.00000000e+00, -2.43244063e-13,\n",
       "         2.72338474e-13, -2.21623525e-13],\n",
       "       [-3.34416566e-13, -4.12560295e-14,  1.00000000e+00,\n",
       "        -6.76007938e-13, -6.57339237e-13],\n",
       "       [ 5.52720127e-15,  1.44610571e-13,  6.88422237e-13,\n",
       "         1.00000000e+00, -9.14539660e-13],\n",
       "       [-8.36810149e-13, -3.05600743e-14, -1.47660141e-13,\n",
       "         1.23112787e-12,  1.00000000e+00]])"
      ]
     },
     "execution_count": 103,
     "metadata": {},
     "output_type": "execute_result"
    }
   ],
   "source": [
    "mat.dot(inv(mat))"
   ]
  },
  {
   "cell_type": "code",
   "execution_count": 104,
   "metadata": {
    "ExecuteTime": {
     "end_time": "2020-08-19T06:26:19.112507Z",
     "start_time": "2020-08-19T06:26:19.096492Z"
    }
   },
   "outputs": [],
   "source": [
    "q, r = qr(mat)"
   ]
  },
  {
   "cell_type": "code",
   "execution_count": 105,
   "metadata": {
    "ExecuteTime": {
     "end_time": "2020-08-19T06:26:19.145420Z",
     "start_time": "2020-08-19T06:26:19.118798Z"
    }
   },
   "outputs": [
    {
     "data": {
      "text/plain": [
       "(array([[-0.65228594, -0.12781841,  0.32817574, -0.18361902,  0.64557745],\n",
       "        [ 0.11409049, -0.9444977 , -0.29484774,  0.0257696 ,  0.08548794],\n",
       "        [-0.21282122,  0.27542484, -0.89381083, -0.08467302,  0.26977946],\n",
       "        [-0.18009576, -0.07620809, -0.0279734 , -0.87948815, -0.43298491],\n",
       "        [ 0.69554228,  0.09959933,  0.07540008, -0.43005937,  0.56184044]]),\n",
       " array([[-3.11768090e+00,  9.60529005e-01, -2.56355962e+00,\n",
       "          3.22252777e-01,  4.91580741e+00],\n",
       "        [ 0.00000000e+00, -2.11895783e+00,  1.32326988e+00,\n",
       "         -2.44519994e-02, -3.31779152e-01],\n",
       "        [ 0.00000000e+00,  0.00000000e+00, -2.55816286e+00,\n",
       "         -1.46689835e-01,  1.11534348e+00],\n",
       "        [ 0.00000000e+00,  0.00000000e+00,  0.00000000e+00,\n",
       "         -4.44777836e+00, -3.42790130e+00],\n",
       "        [ 0.00000000e+00,  0.00000000e+00,  0.00000000e+00,\n",
       "          0.00000000e+00,  2.61996772e-04]]))"
      ]
     },
     "execution_count": 105,
     "metadata": {},
     "output_type": "execute_result"
    }
   ],
   "source": [
    "q,r"
   ]
  },
  {
   "cell_type": "code",
   "execution_count": 106,
   "metadata": {
    "ExecuteTime": {
     "end_time": "2020-08-19T06:26:19.159960Z",
     "start_time": "2020-08-19T06:26:19.150102Z"
    }
   },
   "outputs": [
    {
     "data": {
      "text/plain": [
       "array([[-0.68902585,  1.11025835, -2.13492595, -1.00373023],\n",
       "       [-0.43150945,  1.22317634,  1.15215787,  0.28665791],\n",
       "       [ 0.22539666,  0.62130618,  0.39495182,  0.15631381],\n",
       "       [-0.49046332,  0.37003636, -0.63251721,  0.05716993]])"
      ]
     },
     "execution_count": 106,
     "metadata": {},
     "output_type": "execute_result"
    }
   ],
   "source": [
    "samples = np.random.normal(size=(4, 4))\n",
    "samples"
   ]
  },
  {
   "cell_type": "code",
   "execution_count": 107,
   "metadata": {
    "ExecuteTime": {
     "end_time": "2020-08-19T06:26:19.179407Z",
     "start_time": "2020-08-19T06:26:19.163604Z"
    }
   },
   "outputs": [],
   "source": [
    "from random import normalvariate\n",
    "N = 1000000\n"
   ]
  },
  {
   "cell_type": "code",
   "execution_count": 108,
   "metadata": {
    "ExecuteTime": {
     "end_time": "2020-08-19T06:26:20.517412Z",
     "start_time": "2020-08-19T06:26:19.182427Z"
    }
   },
   "outputs": [],
   "source": [
    "samples = [normalvariate(0, 1) for _ in range(N)]"
   ]
  },
  {
   "cell_type": "code",
   "execution_count": 109,
   "metadata": {
    "ExecuteTime": {
     "end_time": "2020-08-19T06:26:20.575318Z",
     "start_time": "2020-08-19T06:26:20.520211Z"
    }
   },
   "outputs": [
    {
     "data": {
      "text/plain": [
       "array([0.05798481, 0.25504226, 0.80843978, ..., 0.88604315, 0.03152403,\n",
       "       0.46988978])"
      ]
     },
     "execution_count": 109,
     "metadata": {},
     "output_type": "execute_result"
    }
   ],
   "source": [
    "np.random.normal(size=N)"
   ]
  },
  {
   "cell_type": "code",
   "execution_count": 110,
   "metadata": {
    "ExecuteTime": {
     "end_time": "2020-08-19T06:26:20.588489Z",
     "start_time": "2020-08-19T06:26:20.581461Z"
    }
   },
   "outputs": [],
   "source": [
    "rng = np.random.seed(1234)\n"
   ]
  },
  {
   "cell_type": "code",
   "execution_count": 111,
   "metadata": {
    "ExecuteTime": {
     "end_time": "2020-08-19T06:26:21.021633Z",
     "start_time": "2020-08-19T06:26:20.592843Z"
    }
   },
   "outputs": [
    {
     "data": {
      "text/plain": [
       "[<matplotlib.lines.Line2D at 0x244a4855630>]"
      ]
     },
     "execution_count": 111,
     "metadata": {},
     "output_type": "execute_result"
    },
    {
     "data": {
      "image/png": "[encoded data removed]",
      "text/plain": [
       "<Figure size 432x288 with 1 Axes>"
      ]
     },
     "metadata": {
      "needs_background": "light"
     },
     "output_type": "display_data"
    }
   ],
   "source": [
    "import random\n",
    "position = 0\n",
    "walk = [position]\n",
    "steps = 1000\n",
    "for i in range(steps):\n",
    "    step = 1 if random.randint(0, 1) else -1\n",
    "    position += step\n",
    "    walk.append(position)\n",
    "\n",
    "plt.plot(walk[:100])"
   ]
  },
  {
   "cell_type": "code",
   "execution_count": 112,
   "metadata": {
    "ExecuteTime": {
     "end_time": "2020-08-19T06:26:21.055618Z",
     "start_time": "2020-08-19T06:26:21.026543Z"
    }
   },
   "outputs": [
    {
     "data": {
      "text/plain": [
       "array([  1,   2,   1, ..., 862, 861, 862], dtype=int32)"
      ]
     },
     "execution_count": 112,
     "metadata": {},
     "output_type": "execute_result"
    }
   ],
   "source": [
    "nsteps = 1000000\n",
    "draws = np.random.randint(0, 2, size=nsteps)\n",
    "steps = np.where(draws > 0, 1, -1)\n",
    "walk = steps.cumsum()\n",
    "walk"
   ]
  },
  {
   "cell_type": "code",
   "execution_count": 113,
   "metadata": {
    "ExecuteTime": {
     "end_time": "2020-08-19T06:26:33.544634Z",
     "start_time": "2020-08-19T06:26:33.537534Z"
    }
   },
   "outputs": [
    {
     "name": "stdout",
     "output_type": "stream",
     "text": [
      "-207 1237\n"
     ]
    }
   ],
   "source": [
    "print(walk.min(), walk.max())"
   ]
  },
  {
   "cell_type": "code",
   "execution_count": 114,
   "metadata": {
    "ExecuteTime": {
     "end_time": "2020-08-19T06:26:39.824522Z",
     "start_time": "2020-08-19T06:26:39.812494Z"
    }
   },
   "outputs": [
    {
     "data": {
      "text/plain": [
       "297"
      ]
     },
     "execution_count": 114,
     "metadata": {},
     "output_type": "execute_result"
    }
   ],
   "source": [
    "(np.abs(walk) >= 10).argmax()"
   ]
  },
  {
   "cell_type": "code",
   "execution_count": 119,
   "metadata": {
    "ExecuteTime": {
     "end_time": "2020-08-19T06:30:07.287362Z",
     "start_time": "2020-08-19T06:30:07.176680Z"
    }
   },
   "outputs": [
    {
     "data": {
      "text/plain": [
       "array([[ -1,   0,  -1, ..., -14, -13, -12],\n",
       "       [  1,   2,   1, ..., -58, -57, -56],\n",
       "       [  1,   2,   1, ..., -66, -65, -66],\n",
       "       ...,\n",
       "       [  1,   2,   3, ..., -18, -17, -18],\n",
       "       [ -1,  -2,  -1, ...,  36,  37,  38],\n",
       "       [ -1,   0,   1, ...,  30,  31,  30]], dtype=int32)"
      ]
     },
     "execution_count": 119,
     "metadata": {},
     "output_type": "execute_result"
    }
   ],
   "source": [
    "nwalks = 5000\n",
    "nsteps = 1000\n",
    "\n",
    "draws = np.random.randint(0, 2, size=(nwalks, nsteps)) # 0 or 1setps = np.where(draws > 0, 1, -1)\n",
    "steps = np.where(draws > 0, 1, -1)\n",
    "walks = steps.cumsum(1)\n",
    "walks"
   ]
  },
  {
   "cell_type": "code",
   "execution_count": 120,
   "metadata": {
    "ExecuteTime": {
     "end_time": "2020-08-19T06:30:29.891646Z",
     "start_time": "2020-08-19T06:30:29.878969Z"
    }
   },
   "outputs": [
    {
     "data": {
      "text/plain": [
       "141"
      ]
     },
     "execution_count": 120,
     "metadata": {},
     "output_type": "execute_result"
    }
   ],
   "source": [
    "walks.max()"
   ]
  },
  {
   "cell_type": "code",
   "execution_count": 121,
   "metadata": {
    "ExecuteTime": {
     "end_time": "2020-08-19T06:30:34.891051Z",
     "start_time": "2020-08-19T06:30:34.878630Z"
    }
   },
   "outputs": [
    {
     "data": {
      "text/plain": [
       "-118"
      ]
     },
     "execution_count": 121,
     "metadata": {},
     "output_type": "execute_result"
    }
   ],
   "source": [
    "walks.min()"
   ]
  },
  {
   "cell_type": "code",
   "execution_count": 122,
   "metadata": {
    "ExecuteTime": {
     "end_time": "2020-08-19T06:30:45.229190Z",
     "start_time": "2020-08-19T06:30:45.192355Z"
    }
   },
   "outputs": [],
   "source": [
    "hits30 = (np.abs(walks) >= 30).any(1)"
   ]
  },
  {
   "cell_type": "code",
   "execution_count": 123,
   "metadata": {
    "ExecuteTime": {
     "end_time": "2020-08-19T06:30:50.287213Z",
     "start_time": "2020-08-19T06:30:50.281813Z"
    }
   },
   "outputs": [
    {
     "data": {
      "text/plain": [
       "array([False,  True,  True, ..., False,  True,  True])"
      ]
     },
     "execution_count": 123,
     "metadata": {},
     "output_type": "execute_result"
    }
   ],
   "source": [
    "hits30"
   ]
  },
  {
   "cell_type": "code",
   "execution_count": 124,
   "metadata": {
    "ExecuteTime": {
     "end_time": "2020-08-19T06:30:58.036237Z",
     "start_time": "2020-08-19T06:30:58.031151Z"
    }
   },
   "outputs": [
    {
     "data": {
      "text/plain": [
       "3388"
      ]
     },
     "execution_count": 124,
     "metadata": {},
     "output_type": "execute_result"
    }
   ],
   "source": [
    "hits30.sum()"
   ]
  },
  {
   "cell_type": "code",
   "execution_count": 125,
   "metadata": {
    "ExecuteTime": {
     "end_time": "2020-08-19T06:31:10.007096Z",
     "start_time": "2020-08-19T06:31:09.957908Z"
    }
   },
   "outputs": [
    {
     "data": {
      "text/plain": [
       "502.23376623376623"
      ]
     },
     "execution_count": 125,
     "metadata": {},
     "output_type": "execute_result"
    }
   ],
   "source": [
    "crossing_times = (np.abs(walks[hits30]) >= 30).argmax(1)\n",
    "crossing_times.mean()"
   ]
  },
  {
   "cell_type": "code",
   "execution_count": 126,
   "metadata": {
    "ExecuteTime": {
     "end_time": "2020-08-19T06:31:22.481179Z",
     "start_time": "2020-08-19T06:31:22.246469Z"
    }
   },
   "outputs": [],
   "source": [
    "steps = np.random.normal(loc=0, scale=0.25, size=(nwalks, nsteps))"
   ]
  },
  {
   "cell_type": "code",
   "execution_count": 130,
   "metadata": {
    "ExecuteTime": {
     "end_time": "2020-08-19T06:33:33.666121Z",
     "start_time": "2020-08-19T06:32:46.251359Z"
    }
   },
   "outputs": [
    {
     "data": {
      "text/plain": [
       "[<matplotlib.lines.Line2D at 0x244b357e518>,\n",
       " <matplotlib.lines.Line2D at 0x244b357e240>,\n",
       " <matplotlib.lines.Line2D at 0x244b357ec18>,\n",
       " <matplotlib.lines.Line2D at 0x244b357e940>,\n",
       " <matplotlib.lines.Line2D at 0x244b357e668>,\n",
       " <matplotlib.lines.Line2D at 0x244b357e390>,\n",
       " <matplotlib.lines.Line2D at 0x244b357e080>,\n",
       " <matplotlib.lines.Line2D at 0x244b357e278>,\n",
       " <matplotlib.lines.Line2D at 0x244b357e8d0>,\n",
       " <matplotlib.lines.Line2D at 0x244b359eac8>,\n",
       " <matplotlib.lines.Line2D at 0x244b3463198>,\n",
       " <matplotlib.lines.Line2D at 0x244b359ebe0>,\n",
       " <matplotlib.lines.Line2D at 0x244b359eeb8>,\n",
       " <matplotlib.lines.Line2D at 0x244b359ec50>,\n",
       " <matplotlib.lines.Line2D at 0x244b359eb00>,\n",
       " <matplotlib.lines.Line2D at 0x244b359e978>,\n",
       " <matplotlib.lines.Line2D at 0x244b359e048>,\n",
       " <matplotlib.lines.Line2D at 0x244b359eba8>,\n",
       " <matplotlib.lines.Line2D at 0x244b35accf8>,\n",
       " <matplotlib.lines.Line2D at 0x244b35aca20>,\n",
       " <matplotlib.lines.Line2D at 0x244b35ac748>,\n",
       " <matplotlib.lines.Line2D at 0x244b35ac4a8>,\n",
       " <matplotlib.lines.Line2D at 0x244b35ac198>,\n",
       " <matplotlib.lines.Line2D at 0x244b35ac208>,\n",
       " <matplotlib.lines.Line2D at 0x244b35ac710>,\n",
       " <matplotlib.lines.Line2D at 0x244b35acf98>,\n",
       " <matplotlib.lines.Line2D at 0x244b35cecc0>,\n",
       " <matplotlib.lines.Line2D at 0x244b35ce9e8>,\n",
       " <matplotlib.lines.Line2D at 0x244b35ce710>,\n",
       " <matplotlib.lines.Line2D at 0x244b35ce438>,\n",
       " <matplotlib.lines.Line2D at 0x244b35ce198>,\n",
       " <matplotlib.lines.Line2D at 0x244b35ce080>,\n",
       " <matplotlib.lines.Line2D at 0x244b35ce400>,\n",
       " <matplotlib.lines.Line2D at 0x244b35cec88>,\n",
       " <matplotlib.lines.Line2D at 0x244b35fbdd8>,\n",
       " <matplotlib.lines.Line2D at 0x244b35fbe48>,\n",
       " <matplotlib.lines.Line2D at 0x244b35fbb70>,\n",
       " <matplotlib.lines.Line2D at 0x244b35fb898>,\n",
       " <matplotlib.lines.Line2D at 0x244b35fb5c0>,\n",
       " <matplotlib.lines.Line2D at 0x244b35fb518>,\n",
       " <matplotlib.lines.Line2D at 0x244b35fbda0>,\n",
       " <matplotlib.lines.Line2D at 0x244b35e9b70>,\n",
       " <matplotlib.lines.Line2D at 0x244b35e9c88>,\n",
       " <matplotlib.lines.Line2D at 0x244b35e99b0>,\n",
       " <matplotlib.lines.Line2D at 0x244b35e96d8>,\n",
       " <matplotlib.lines.Line2D at 0x244b35e9400>,\n",
       " <matplotlib.lines.Line2D at 0x244b35e9160>,\n",
       " <matplotlib.lines.Line2D at 0x244b35e9080>,\n",
       " <matplotlib.lines.Line2D at 0x244b35e93c8>,\n",
       " <matplotlib.lines.Line2D at 0x244b35e9c50>,\n",
       " <matplotlib.lines.Line2D at 0x244b361add8>,\n",
       " <matplotlib.lines.Line2D at 0x244b361ab00>,\n",
       " <matplotlib.lines.Line2D at 0x244b361a828>,\n",
       " <matplotlib.lines.Line2D at 0x244b361a550>,\n",
       " <matplotlib.lines.Line2D at 0x244b361a240>,\n",
       " <matplotlib.lines.Line2D at 0x244b361a2b0>,\n",
       " <matplotlib.lines.Line2D at 0x244b361a7b8>,\n",
       " <matplotlib.lines.Line2D at 0x244b34637f0>,\n",
       " <matplotlib.lines.Line2D at 0x244b361ad68>,\n",
       " <matplotlib.lines.Line2D at 0x244b363ad68>,\n",
       " <matplotlib.lines.Line2D at 0x244b363add8>,\n",
       " <matplotlib.lines.Line2D at 0x244b363ab00>,\n",
       " <matplotlib.lines.Line2D at 0x244b363a828>,\n",
       " <matplotlib.lines.Line2D at 0x244b363a550>,\n",
       " <matplotlib.lines.Line2D at 0x244b363a1d0>,\n",
       " <matplotlib.lines.Line2D at 0x244b363aa58>,\n",
       " <matplotlib.lines.Line2D at 0x244b364abe0>,\n",
       " <matplotlib.lines.Line2D at 0x244b364a940>,\n",
       " <matplotlib.lines.Line2D at 0x244b364a630>,\n",
       " <matplotlib.lines.Line2D at 0x244b364a358>,\n",
       " <matplotlib.lines.Line2D at 0x244b364a0b8>,\n",
       " <matplotlib.lines.Line2D at 0x244b364a278>,\n",
       " <matplotlib.lines.Line2D at 0x244b364a5f8>,\n",
       " <matplotlib.lines.Line2D at 0x244b364ae80>,\n",
       " <matplotlib.lines.Line2D at 0x244b358ed68>,\n",
       " <matplotlib.lines.Line2D at 0x244b358eda0>,\n",
       " <matplotlib.lines.Line2D at 0x244b358e4a8>,\n",
       " <matplotlib.lines.Line2D at 0x244b358e208>,\n",
       " <matplotlib.lines.Line2D at 0x244b358e0f0>,\n",
       " <matplotlib.lines.Line2D at 0x244b358e470>,\n",
       " <matplotlib.lines.Line2D at 0x244b358ecf8>,\n",
       " <matplotlib.lines.Line2D at 0x244b366aa90>,\n",
       " <matplotlib.lines.Line2D at 0x244b366a908>,\n",
       " <matplotlib.lines.Line2D at 0x244b366a668>,\n",
       " <matplotlib.lines.Line2D at 0x244b366a358>,\n",
       " <matplotlib.lines.Line2D at 0x244b366a080>,\n",
       " <matplotlib.lines.Line2D at 0x244b366a550>,\n",
       " <matplotlib.lines.Line2D at 0x244b366a5f8>,\n",
       " <matplotlib.lines.Line2D at 0x244b366ae48>,\n",
       " <matplotlib.lines.Line2D at 0x244b3688b70>,\n",
       " <matplotlib.lines.Line2D at 0x244b3688898>,\n",
       " <matplotlib.lines.Line2D at 0x244b36885c0>,\n",
       " <matplotlib.lines.Line2D at 0x244b3688358>,\n",
       " <matplotlib.lines.Line2D at 0x244b36882e8>,\n",
       " <matplotlib.lines.Line2D at 0x244b3688588>,\n",
       " <matplotlib.lines.Line2D at 0x244b3688e10>,\n",
       " <matplotlib.lines.Line2D at 0x244b36a6e10>,\n",
       " <matplotlib.lines.Line2D at 0x244b36a6e48>,\n",
       " <matplotlib.lines.Line2D at 0x244b36a6ba8>,\n",
       " <matplotlib.lines.Line2D at 0x244b36a68d0>,\n",
       " <matplotlib.lines.Line2D at 0x244b36a65f8>,\n",
       " <matplotlib.lines.Line2D at 0x244b36a6048>,\n",
       " <matplotlib.lines.Line2D at 0x244b36a6828>,\n",
       " <matplotlib.lines.Line2D at 0x244b36c6438>,\n",
       " <matplotlib.lines.Line2D at 0x244b36c6dd8>,\n",
       " <matplotlib.lines.Line2D at 0x244b36c6e48>,\n",
       " <matplotlib.lines.Line2D at 0x244b36c6b70>,\n",
       " <matplotlib.lines.Line2D at 0x244b36c6898>,\n",
       " <matplotlib.lines.Line2D at 0x244b36c65c0>,\n",
       " <matplotlib.lines.Line2D at 0x244b36c6240>,\n",
       " <matplotlib.lines.Line2D at 0x244b36c6ac8>,\n",
       " <matplotlib.lines.Line2D at 0x244b36d6898>,\n",
       " <matplotlib.lines.Line2D at 0x244b36d6c88>,\n",
       " <matplotlib.lines.Line2D at 0x244b36d69e8>,\n",
       " <matplotlib.lines.Line2D at 0x244b36d66d8>,\n",
       " <matplotlib.lines.Line2D at 0x244b36d6400>,\n",
       " <matplotlib.lines.Line2D at 0x244b36d60f0>,\n",
       " <matplotlib.lines.Line2D at 0x244b36d60b8>,\n",
       " <matplotlib.lines.Line2D at 0x244b36d6978>,\n",
       " <matplotlib.lines.Line2D at 0x244b36f6828>,\n",
       " <matplotlib.lines.Line2D at 0x244b36f6c50>,\n",
       " <matplotlib.lines.Line2D at 0x244b36f6978>,\n",
       " <matplotlib.lines.Line2D at 0x244b36f66d8>,\n",
       " <matplotlib.lines.Line2D at 0x244b36f63c8>,\n",
       " <matplotlib.lines.Line2D at 0x244b36f60b8>,\n",
       " <matplotlib.lines.Line2D at 0x244b36f6080>,\n",
       " <matplotlib.lines.Line2D at 0x244b36f6908>,\n",
       " <matplotlib.lines.Line2D at 0x244b3717eb8>,\n",
       " <matplotlib.lines.Line2D at 0x244b3717ef0>,\n",
       " <matplotlib.lines.Line2D at 0x244b3717c50>,\n",
       " <matplotlib.lines.Line2D at 0x244b3717978>,\n",
       " <matplotlib.lines.Line2D at 0x244b37176a0>,\n",
       " <matplotlib.lines.Line2D at 0x244b3717400>,\n",
       " <matplotlib.lines.Line2D at 0x244b3717358>,\n",
       " <matplotlib.lines.Line2D at 0x244b3717ba8>,\n",
       " <matplotlib.lines.Line2D at 0x244b3734ba8>,\n",
       " <matplotlib.lines.Line2D at 0x244b37348d0>,\n",
       " <matplotlib.lines.Line2D at 0x244b37345f8>,\n",
       " <matplotlib.lines.Line2D at 0x244b3734320>,\n",
       " <matplotlib.lines.Line2D at 0x244b37340b8>,\n",
       " <matplotlib.lines.Line2D at 0x244b3734240>,\n",
       " <matplotlib.lines.Line2D at 0x244b37345c0>,\n",
       " <matplotlib.lines.Line2D at 0x244b3734e48>,\n",
       " <matplotlib.lines.Line2D at 0x244b122cb70>,\n",
       " <matplotlib.lines.Line2D at 0x244b122c898>,\n",
       " <matplotlib.lines.Line2D at 0x244b122c5c0>,\n",
       " <matplotlib.lines.Line2D at 0x244b122c2b0>,\n",
       " <matplotlib.lines.Line2D at 0x244b122c320>,\n",
       " <matplotlib.lines.Line2D at 0x244b122c828>,\n",
       " <matplotlib.lines.Line2D at 0x244b122ca20>,\n",
       " <matplotlib.lines.Line2D at 0x244b1639cc0>,\n",
       " <matplotlib.lines.Line2D at 0x244b16399e8>,\n",
       " <matplotlib.lines.Line2D at 0x244b1639710>,\n",
       " <matplotlib.lines.Line2D at 0x244b1639470>,\n",
       " <matplotlib.lines.Line2D at 0x244b1639128>,\n",
       " <matplotlib.lines.Line2D at 0x244b1639358>,\n",
       " <matplotlib.lines.Line2D at 0x244b16396a0>,\n",
       " <matplotlib.lines.Line2D at 0x244b1639f28>,\n",
       " <matplotlib.lines.Line2D at 0x244b181bd68>,\n",
       " <matplotlib.lines.Line2D at 0x244b181bdd8>,\n",
       " <matplotlib.lines.Line2D at 0x244b181bb00>,\n",
       " <matplotlib.lines.Line2D at 0x244b181b828>,\n",
       " <matplotlib.lines.Line2D at 0x244b181b550>,\n",
       " <matplotlib.lines.Line2D at 0x244b181b1d0>,\n",
       " <matplotlib.lines.Line2D at 0x244b181ba58>,\n",
       " <matplotlib.lines.Line2D at 0x244b181b3c8>,\n",
       " <matplotlib.lines.Line2D at 0x244b19f4d30>,\n",
       " <matplotlib.lines.Line2D at 0x244b19f4a90>,\n",
       " <matplotlib.lines.Line2D at 0x244b19f4780>,\n",
       " <matplotlib.lines.Line2D at 0x244b19f4978>,\n",
       " <matplotlib.lines.Line2D at 0x244b19f47f0>,\n",
       " <matplotlib.lines.Line2D at 0x244b19f4160>,\n",
       " <matplotlib.lines.Line2D at 0x244b19f4a20>,\n",
       " <matplotlib.lines.Line2D at 0x244b19f4be0>,\n",
       " <matplotlib.lines.Line2D at 0x244b1cd3c50>,\n",
       " <matplotlib.lines.Line2D at 0x244b1cd39b0>,\n",
       " <matplotlib.lines.Line2D at 0x244b1cd36a0>,\n",
       " <matplotlib.lines.Line2D at 0x244b1cd33c8>,\n",
       " <matplotlib.lines.Line2D at 0x244b1cd30b8>,\n",
       " <matplotlib.lines.Line2D at 0x244b1cd3080>,\n",
       " <matplotlib.lines.Line2D at 0x244b1cd3940>,\n",
       " <matplotlib.lines.Line2D at 0x244b1cd3b00>,\n",
       " <matplotlib.lines.Line2D at 0x244b1e8bc18>,\n",
       " <matplotlib.lines.Line2D at 0x244b1e8b940>,\n",
       " <matplotlib.lines.Line2D at 0x244b1e8b668>,\n",
       " <matplotlib.lines.Line2D at 0x244b1e8b390>,\n",
       " <matplotlib.lines.Line2D at 0x244b1e8b080>,\n",
       " <matplotlib.lines.Line2D at 0x244b1e8b048>,\n",
       " <matplotlib.lines.Line2D at 0x244b1e8b8d0>,\n",
       " <matplotlib.lines.Line2D at 0x244b1e8bda0>,\n",
       " <matplotlib.lines.Line2D at 0x244b2071cc0>,\n",
       " <matplotlib.lines.Line2D at 0x244b20719e8>,\n",
       " <matplotlib.lines.Line2D at 0x244b2071710>,\n",
       " <matplotlib.lines.Line2D at 0x244b2071438>,\n",
       " <matplotlib.lines.Line2D at 0x244b2071198>,\n",
       " <matplotlib.lines.Line2D at 0x244b2071080>,\n",
       " <matplotlib.lines.Line2D at 0x244b2071400>,\n",
       " <matplotlib.lines.Line2D at 0x244b2071c88>,\n",
       " <matplotlib.lines.Line2D at 0x244b22ec898>,\n",
       " <matplotlib.lines.Line2D at 0x244b22ecf28>,\n",
       " <matplotlib.lines.Line2D at 0x244b22ecf60>,\n",
       " <matplotlib.lines.Line2D at 0x244b22eccc0>,\n",
       " <matplotlib.lines.Line2D at 0x244b22eca20>,\n",
       " <matplotlib.lines.Line2D at 0x244b22ec8d0>,\n",
       " <matplotlib.lines.Line2D at 0x244b22ec748>,\n",
       " <matplotlib.lines.Line2D at 0x244b22ec390>,\n",
       " <matplotlib.lines.Line2D at 0x244b22ecc18>,\n",
       " <matplotlib.lines.Line2D at 0x244b230bdd8>,\n",
       " <matplotlib.lines.Line2D at 0x244b230bc18>,\n",
       " <matplotlib.lines.Line2D at 0x244b230b940>,\n",
       " <matplotlib.lines.Line2D at 0x244b230b6a0>,\n",
       " <matplotlib.lines.Line2D at 0x244b230b390>,\n",
       " <matplotlib.lines.Line2D at 0x244b230b0f0>,\n",
       " <matplotlib.lines.Line2D at 0x244b230b438>,\n",
       " <matplotlib.lines.Line2D at 0x244b230b668>,\n",
       " <matplotlib.lines.Line2D at 0x244b230beb8>,\n",
       " <matplotlib.lines.Line2D at 0x244b232ceb8>,\n",
       " <matplotlib.lines.Line2D at 0x244b232cef0>,\n",
       " <matplotlib.lines.Line2D at 0x244b232cc50>,\n",
       " <matplotlib.lines.Line2D at 0x244b232c978>,\n",
       " <matplotlib.lines.Line2D at 0x244b232c6a0>,\n",
       " <matplotlib.lines.Line2D at 0x244b232c400>,\n",
       " <matplotlib.lines.Line2D at 0x244b232c5f8>,\n",
       " <matplotlib.lines.Line2D at 0x244b232ce80>,\n",
       " <matplotlib.lines.Line2D at 0x244b235bc18>,\n",
       " <matplotlib.lines.Line2D at 0x244b235bd30>,\n",
       " <matplotlib.lines.Line2D at 0x244b235ba20>,\n",
       " <matplotlib.lines.Line2D at 0x244b235b748>,\n",
       " <matplotlib.lines.Line2D at 0x244b235b4a8>,\n",
       " <matplotlib.lines.Line2D at 0x244b235b198>,\n",
       " <matplotlib.lines.Line2D at 0x244b235b208>,\n",
       " <matplotlib.lines.Line2D at 0x244b235b710>,\n",
       " <matplotlib.lines.Line2D at 0x244b235bf98>,\n",
       " <matplotlib.lines.Line2D at 0x244b237b5f8>,\n",
       " <matplotlib.lines.Line2D at 0x244b237bcc0>,\n",
       " <matplotlib.lines.Line2D at 0x244b237ba20>,\n",
       " <matplotlib.lines.Line2D at 0x244b237b710>,\n",
       " <matplotlib.lines.Line2D at 0x244b237b438>,\n",
       " <matplotlib.lines.Line2D at 0x244b237b198>,\n",
       " <matplotlib.lines.Line2D at 0x244b237b080>,\n",
       " <matplotlib.lines.Line2D at 0x244b237b400>,\n",
       " <matplotlib.lines.Line2D at 0x244b237bc88>,\n",
       " <matplotlib.lines.Line2D at 0x244b239a5f8>,\n",
       " <matplotlib.lines.Line2D at 0x244b239acc0>,\n",
       " <matplotlib.lines.Line2D at 0x244b239a9e8>,\n",
       " <matplotlib.lines.Line2D at 0x244b239a748>,\n",
       " <matplotlib.lines.Line2D at 0x244b239a438>,\n",
       " <matplotlib.lines.Line2D at 0x244b239a128>,\n",
       " <matplotlib.lines.Line2D at 0x2449f897198>,\n",
       " <matplotlib.lines.Line2D at 0x244b239a3c8>,\n",
       " <matplotlib.lines.Line2D at 0x244b239ac50>,\n",
       " <matplotlib.lines.Line2D at 0x244b23e7f28>,\n",
       " <matplotlib.lines.Line2D at 0x244b23e7a90>,\n",
       " <matplotlib.lines.Line2D at 0x244b23e77b8>,\n",
       " <matplotlib.lines.Line2D at 0x244b23e74e0>,\n",
       " <matplotlib.lines.Line2D at 0x244b23e7240>,\n",
       " <matplotlib.lines.Line2D at 0x244b23e7128>,\n",
       " <matplotlib.lines.Line2D at 0x244b23e74a8>,\n",
       " <matplotlib.lines.Line2D at 0x244b23e7d68>,\n",
       " <matplotlib.lines.Line2D at 0x244b23c9128>,\n",
       " <matplotlib.lines.Line2D at 0x244b23c9da0>,\n",
       " <matplotlib.lines.Line2D at 0x244b23c9fd0>,\n",
       " <matplotlib.lines.Line2D at 0x244b23c9e48>,\n",
       " <matplotlib.lines.Line2D at 0x244b23c9860>,\n",
       " <matplotlib.lines.Line2D at 0x244b23c9588>,\n",
       " <matplotlib.lines.Line2D at 0x244b23c9208>,\n",
       " <matplotlib.lines.Line2D at 0x244b23c9a90>,\n",
       " <matplotlib.lines.Line2D at 0x244b23c99b0>,\n",
       " <matplotlib.lines.Line2D at 0x244b2436e48>,\n",
       " <matplotlib.lines.Line2D at 0x244b2436e80>,\n",
       " <matplotlib.lines.Line2D at 0x244b2436be0>,\n",
       " <matplotlib.lines.Line2D at 0x244b2436908>,\n",
       " <matplotlib.lines.Line2D at 0x244b2436630>,\n",
       " <matplotlib.lines.Line2D at 0x244b2436048>,\n",
       " <matplotlib.lines.Line2D at 0x244b2436860>,\n",
       " <matplotlib.lines.Line2D at 0x244b24364a8>,\n",
       " <matplotlib.lines.Line2D at 0x244b2458e48>,\n",
       " <matplotlib.lines.Line2D at 0x244b2458b70>,\n",
       " <matplotlib.lines.Line2D at 0x244b2458898>,\n",
       " <matplotlib.lines.Line2D at 0x244b24585c0>,\n",
       " <matplotlib.lines.Line2D at 0x244b24582b0>,\n",
       " <matplotlib.lines.Line2D at 0x244b2458320>,\n",
       " <matplotlib.lines.Line2D at 0x244b2458828>,\n",
       " <matplotlib.lines.Line2D at 0x244b2458a20>,\n",
       " <matplotlib.lines.Line2D at 0x244b2475b00>,\n",
       " <matplotlib.lines.Line2D at 0x244b2475828>,\n",
       " <matplotlib.lines.Line2D at 0x244b2475550>,\n",
       " <matplotlib.lines.Line2D at 0x244b24752b0>,\n",
       " <matplotlib.lines.Line2D at 0x244b2475198>,\n",
       " <matplotlib.lines.Line2D at 0x244b2475518>,\n",
       " <matplotlib.lines.Line2D at 0x244b2475dd8>,\n",
       " <matplotlib.lines.Line2D at 0x244b24a3828>,\n",
       " <matplotlib.lines.Line2D at 0x244b24a3c50>,\n",
       " <matplotlib.lines.Line2D at 0x244b24a3978>,\n",
       " <matplotlib.lines.Line2D at 0x244b24a36a0>,\n",
       " <matplotlib.lines.Line2D at 0x244b24a33c8>,\n",
       " <matplotlib.lines.Line2D at 0x244b24a30b8>,\n",
       " <matplotlib.lines.Line2D at 0x244b24a3080>,\n",
       " <matplotlib.lines.Line2D at 0x244b24a3908>,\n",
       " <matplotlib.lines.Line2D at 0x244b24a3550>,\n",
       " <matplotlib.lines.Line2D at 0x244b24c3eb8>,\n",
       " <matplotlib.lines.Line2D at 0x244b24c3ef0>,\n",
       " <matplotlib.lines.Line2D at 0x244b24c3c50>,\n",
       " <matplotlib.lines.Line2D at 0x244b24c3978>,\n",
       " <matplotlib.lines.Line2D at 0x244b24c36a0>,\n",
       " <matplotlib.lines.Line2D at 0x244b24c33c8>,\n",
       " <matplotlib.lines.Line2D at 0x244b24c3320>,\n",
       " <matplotlib.lines.Line2D at 0x244b24c3ba8>,\n",
       " <matplotlib.lines.Line2D at 0x244b24f2630>,\n",
       " <matplotlib.lines.Line2D at 0x244b24f2be0>,\n",
       " <matplotlib.lines.Line2D at 0x244b24f2d30>,\n",
       " <matplotlib.lines.Line2D at 0x244b24f2a58>,\n",
       " <matplotlib.lines.Line2D at 0x244b24f2780>,\n",
       " <matplotlib.lines.Line2D at 0x244b24f27b8>,\n",
       " <matplotlib.lines.Line2D at 0x244b24f24e0>,\n",
       " <matplotlib.lines.Line2D at 0x244b24f2438>,\n",
       " <matplotlib.lines.Line2D at 0x244b24f2cc0>,\n",
       " <matplotlib.lines.Line2D at 0x244b2511ba8>,\n",
       " <matplotlib.lines.Line2D at 0x244b2511cc0>,\n",
       " <matplotlib.lines.Line2D at 0x244b25119e8>,\n",
       " <matplotlib.lines.Line2D at 0x244b2511710>,\n",
       " <matplotlib.lines.Line2D at 0x244b2511438>,\n",
       " <matplotlib.lines.Line2D at 0x244b2511198>,\n",
       " <matplotlib.lines.Line2D at 0x244b2511080>,\n",
       " <matplotlib.lines.Line2D at 0x244b2511400>,\n",
       " <matplotlib.lines.Line2D at 0x244b2511c88>,\n",
       " <matplotlib.lines.Line2D at 0x244b255f9b0>,\n",
       " <matplotlib.lines.Line2D at 0x244b255fdd8>,\n",
       " <matplotlib.lines.Line2D at 0x244b255fe10>,\n",
       " <matplotlib.lines.Line2D at 0x244b255fb38>,\n",
       " <matplotlib.lines.Line2D at 0x244b255f860>,\n",
       " <matplotlib.lines.Line2D at 0x244b255f5c0>,\n",
       " <matplotlib.lines.Line2D at 0x244b255f208>,\n",
       " <matplotlib.lines.Line2D at 0x244b255fa90>,\n",
       " <matplotlib.lines.Line2D at 0x244b255f438>,\n",
       " <matplotlib.lines.Line2D at 0x244b2531f60>,\n",
       " <matplotlib.lines.Line2D at 0x244b2531f98>,\n",
       " <matplotlib.lines.Line2D at 0x244b2531cf8>,\n",
       " <matplotlib.lines.Line2D at 0x244b2531a20>,\n",
       " <matplotlib.lines.Line2D at 0x244b2531748>,\n",
       " <matplotlib.lines.Line2D at 0x244b2531470>,\n",
       " <matplotlib.lines.Line2D at 0x244b25310f0>,\n",
       " <matplotlib.lines.Line2D at 0x244b2531978>,\n",
       " <matplotlib.lines.Line2D at 0x244b2531b70>,\n",
       " <matplotlib.lines.Line2D at 0x244b25cd1d0>,\n",
       " <matplotlib.lines.Line2D at 0x244b25cdb70>,\n",
       " <matplotlib.lines.Line2D at 0x244b25cd8d0>,\n",
       " <matplotlib.lines.Line2D at 0x244b25cd5c0>,\n",
       " <matplotlib.lines.Line2D at 0x244b25cd320>,\n",
       " <matplotlib.lines.Line2D at 0x244b25cd208>,\n",
       " <matplotlib.lines.Line2D at 0x244b25cd2b0>,\n",
       " <matplotlib.lines.Line2D at 0x244b25cdb38>,\n",
       " <matplotlib.lines.Line2D at 0x244b25a1ef0>,\n",
       " <matplotlib.lines.Line2D at 0x244b25a1d68>,\n",
       " <matplotlib.lines.Line2D at 0x244b25a1da0>,\n",
       " <matplotlib.lines.Line2D at 0x244b25a14a8>,\n",
       " <matplotlib.lines.Line2D at 0x244b25a1208>,\n",
       " <matplotlib.lines.Line2D at 0x244b25a10f0>,\n",
       " <matplotlib.lines.Line2D at 0x244b25a1470>,\n",
       " <matplotlib.lines.Line2D at 0x244b25a1cf8>,\n",
       " <matplotlib.lines.Line2D at 0x244b25a1c18>,\n",
       " <matplotlib.lines.Line2D at 0x244b263c550>,\n",
       " <matplotlib.lines.Line2D at 0x244b263cc50>,\n",
       " <matplotlib.lines.Line2D at 0x244b263c940>,\n",
       " <matplotlib.lines.Line2D at 0x244b263c668>,\n",
       " <matplotlib.lines.Line2D at 0x244b263c390>,\n",
       " <matplotlib.lines.Line2D at 0x244b263c0f0>,\n",
       " <matplotlib.lines.Line2D at 0x244b263c2b0>,\n",
       " <matplotlib.lines.Line2D at 0x244b263c630>,\n",
       " <matplotlib.lines.Line2D at 0x244b263ceb8>,\n",
       " <matplotlib.lines.Line2D at 0x244b260d438>,\n",
       " <matplotlib.lines.Line2D at 0x244b3482e10>,\n",
       " <matplotlib.lines.Line2D at 0x244b260de48>,\n",
       " <matplotlib.lines.Line2D at 0x244b260db70>,\n",
       " <matplotlib.lines.Line2D at 0x244b260d898>,\n",
       " <matplotlib.lines.Line2D at 0x244b260d5c0>,\n",
       " <matplotlib.lines.Line2D at 0x244b260d518>,\n",
       " <matplotlib.lines.Line2D at 0x244b260dda0>,\n",
       " <matplotlib.lines.Line2D at 0x244b267a518>,\n",
       " <matplotlib.lines.Line2D at 0x244b267a908>,\n",
       " <matplotlib.lines.Line2D at 0x244b267a668>,\n",
       " <matplotlib.lines.Line2D at 0x244b267a358>,\n",
       " <matplotlib.lines.Line2D at 0x244b267a080>,\n",
       " <matplotlib.lines.Line2D at 0x244b267a550>,\n",
       " <matplotlib.lines.Line2D at 0x244b267a208>,\n",
       " <matplotlib.lines.Line2D at 0x244b267ab70>,\n",
       " <matplotlib.lines.Line2D at 0x244b267ad68>,\n",
       " <matplotlib.lines.Line2D at 0x244b26aa048>,\n",
       " <matplotlib.lines.Line2D at 0x244b26aacc0>,\n",
       " <matplotlib.lines.Line2D at 0x244b26aa9e8>,\n",
       " <matplotlib.lines.Line2D at 0x244b26aa710>,\n",
       " <matplotlib.lines.Line2D at 0x244b26aa470>,\n",
       " <matplotlib.lines.Line2D at 0x244b26aa160>,\n",
       " <matplotlib.lines.Line2D at 0x244b26aa1d0>,\n",
       " <matplotlib.lines.Line2D at 0x244b26aa6d8>,\n",
       " <matplotlib.lines.Line2D at 0x244b26aaf98>,\n",
       " <matplotlib.lines.Line2D at 0x244b26c9f60>,\n",
       " <matplotlib.lines.Line2D at 0x244b26c9f98>,\n",
       " <matplotlib.lines.Line2D at 0x244b26c9d30>,\n",
       " <matplotlib.lines.Line2D at 0x244b26c9be0>,\n",
       " <matplotlib.lines.Line2D at 0x244b26c9a58>,\n",
       " <matplotlib.lines.Line2D at 0x244b26c9470>,\n",
       " <matplotlib.lines.Line2D at 0x244b26c90f0>,\n",
       " <matplotlib.lines.Line2D at 0x244b26c9978>,\n",
       " <matplotlib.lines.Line2D at 0x244b26c9ba8>,\n",
       " <matplotlib.lines.Line2D at 0x244b26e7c50>,\n",
       " <matplotlib.lines.Line2D at 0x244b26e79b0>,\n",
       " <matplotlib.lines.Line2D at 0x244b26e76a0>,\n",
       " <matplotlib.lines.Line2D at 0x244b26e73c8>,\n",
       " <matplotlib.lines.Line2D at 0x244b26e7128>,\n",
       " <matplotlib.lines.Line2D at 0x244b26e7160>,\n",
       " <matplotlib.lines.Line2D at 0x244b26e7668>,\n",
       " <matplotlib.lines.Line2D at 0x244b26e7ef0>,\n",
       " <matplotlib.lines.Line2D at 0x244b271ac50>,\n",
       " <matplotlib.lines.Line2D at 0x244b271ad68>,\n",
       " <matplotlib.lines.Line2D at 0x244b271aac8>,\n",
       " <matplotlib.lines.Line2D at 0x244b271a7f0>,\n",
       " <matplotlib.lines.Line2D at 0x244b271a518>,\n",
       " <matplotlib.lines.Line2D at 0x244b271a208>,\n",
       " <matplotlib.lines.Line2D at 0x244b271a278>,\n",
       " <matplotlib.lines.Line2D at 0x244b271a780>,\n",
       " <matplotlib.lines.Line2D at 0x244b271a3c8>,\n",
       " <matplotlib.lines.Line2D at 0x244b27370b8>,\n",
       " <matplotlib.lines.Line2D at 0x244b2737a58>,\n",
       " <matplotlib.lines.Line2D at 0x244b2737780>,\n",
       " <matplotlib.lines.Line2D at 0x244b27374a8>,\n",
       " <matplotlib.lines.Line2D at 0x244b2737208>,\n",
       " <matplotlib.lines.Line2D at 0x244b27370f0>,\n",
       " <matplotlib.lines.Line2D at 0x244b2737470>,\n",
       " <matplotlib.lines.Line2D at 0x244b2737cf8>,\n",
       " <matplotlib.lines.Line2D at 0x244b2756d30>,\n",
       " <matplotlib.lines.Line2D at 0x244b2756a20>,\n",
       " <matplotlib.lines.Line2D at 0x244b2756748>,\n",
       " <matplotlib.lines.Line2D at 0x244b27564a8>,\n",
       " <matplotlib.lines.Line2D at 0x244b2756198>,\n",
       " <matplotlib.lines.Line2D at 0x244b2756208>,\n",
       " <matplotlib.lines.Line2D at 0x244b2756710>,\n",
       " <matplotlib.lines.Line2D at 0x244b2756f98>,\n",
       " <matplotlib.lines.Line2D at 0x244b2785fd0>,\n",
       " <matplotlib.lines.Line2D at 0x244b2785b38>,\n",
       " <matplotlib.lines.Line2D at 0x244b2785860>,\n",
       " <matplotlib.lines.Line2D at 0x244b2785588>,\n",
       " <matplotlib.lines.Line2D at 0x244b27852e8>,\n",
       " <matplotlib.lines.Line2D at 0x244b27851d0>,\n",
       " <matplotlib.lines.Line2D at 0x244b2785550>,\n",
       " <matplotlib.lines.Line2D at 0x244b2785dd8>,\n",
       " <matplotlib.lines.Line2D at 0x244b27c4da0>,\n",
       " <matplotlib.lines.Line2D at 0x244b27c4fd0>,\n",
       " <matplotlib.lines.Line2D at 0x244b27c4e48>,\n",
       " <matplotlib.lines.Line2D at 0x244b27c4860>,\n",
       " <matplotlib.lines.Line2D at 0x244b27c4588>,\n",
       " <matplotlib.lines.Line2D at 0x244b27c4208>,\n",
       " <matplotlib.lines.Line2D at 0x244b27c4a90>,\n",
       " <matplotlib.lines.Line2D at 0x244b27a59e8>,\n",
       " <matplotlib.lines.Line2D at 0x244b27a5b00>,\n",
       " <matplotlib.lines.Line2D at 0x244b27a5828>,\n",
       " <matplotlib.lines.Line2D at 0x244b27a5550>,\n",
       " <matplotlib.lines.Line2D at 0x244b27a52b0>,\n",
       " <matplotlib.lines.Line2D at 0x244b27a5198>,\n",
       " <matplotlib.lines.Line2D at 0x244b27a5518>,\n",
       " <matplotlib.lines.Line2D at 0x244b27a5da0>,\n",
       " <matplotlib.lines.Line2D at 0x244b28438d0>,\n",
       " <matplotlib.lines.Line2D at 0x244b2843f98>,\n",
       " <matplotlib.lines.Line2D at 0x244b2843fd0>,\n",
       " <matplotlib.lines.Line2D at 0x244b2843d30>,\n",
       " <matplotlib.lines.Line2D at 0x244b2843a58>,\n",
       " <matplotlib.lines.Line2D at 0x244b2843780>,\n",
       " <matplotlib.lines.Line2D at 0x244b28434e0>,\n",
       " <matplotlib.lines.Line2D at 0x244b2843128>,\n",
       " <matplotlib.lines.Line2D at 0x244b28439b0>,\n",
       " <matplotlib.lines.Line2D at 0x244b2843358>,\n",
       " <matplotlib.lines.Line2D at 0x244b2812e80>,\n",
       " <matplotlib.lines.Line2D at 0x244b2812908>,\n",
       " <matplotlib.lines.Line2D at 0x244b2812630>,\n",
       " <matplotlib.lines.Line2D at 0x244b2812358>,\n",
       " <matplotlib.lines.Line2D at 0x244b2812080>,\n",
       " <matplotlib.lines.Line2D at 0x244b2812390>,\n",
       " <matplotlib.lines.Line2D at 0x244b28125c0>,\n",
       " <matplotlib.lines.Line2D at 0x244b2812e48>,\n",
       " <matplotlib.lines.Line2D at 0x244b287fe10>,\n",
       " <matplotlib.lines.Line2D at 0x244b287fc50>,\n",
       " <matplotlib.lines.Line2D at 0x244b287f978>,\n",
       " <matplotlib.lines.Line2D at 0x244b287f6a0>,\n",
       " <matplotlib.lines.Line2D at 0x244b287f3c8>,\n",
       " <matplotlib.lines.Line2D at 0x244b287f128>,\n",
       " <matplotlib.lines.Line2D at 0x244b287f160>,\n",
       " <matplotlib.lines.Line2D at 0x244b287f668>,\n",
       " <matplotlib.lines.Line2D at 0x244b287fef0>,\n",
       " <matplotlib.lines.Line2D at 0x244b28ae0f0>,\n",
       " <matplotlib.lines.Line2D at 0x244b28aeda0>,\n",
       " <matplotlib.lines.Line2D at 0x244b28aeac8>,\n",
       " <matplotlib.lines.Line2D at 0x244b28ae828>,\n",
       " <matplotlib.lines.Line2D at 0x244b28ae518>,\n",
       " <matplotlib.lines.Line2D at 0x244b28ae208>,\n",
       " <matplotlib.lines.Line2D at 0x244b28ae588>,\n",
       " <matplotlib.lines.Line2D at 0x244b28ae7b8>,\n",
       " <matplotlib.lines.Line2D at 0x244b28ae3c8>,\n",
       " <matplotlib.lines.Line2D at 0x244b28cfd30>,\n",
       " <matplotlib.lines.Line2D at 0x244b28cfa90>,\n",
       " <matplotlib.lines.Line2D at 0x244b28cf7b8>,\n",
       " <matplotlib.lines.Line2D at 0x244b28cf7f0>,\n",
       " <matplotlib.lines.Line2D at 0x244b28cf550>,\n",
       " <matplotlib.lines.Line2D at 0x244b28cf198>,\n",
       " <matplotlib.lines.Line2D at 0x244b28cfa20>,\n",
       " <matplotlib.lines.Line2D at 0x244b28cfac8>,\n",
       " <matplotlib.lines.Line2D at 0x244b28f0358>,\n",
       " <matplotlib.lines.Line2D at 0x244b28f0d30>,\n",
       " <matplotlib.lines.Line2D at 0x244b28f0a58>,\n",
       " <matplotlib.lines.Line2D at 0x244b28f0780>,\n",
       " <matplotlib.lines.Line2D at 0x244b28f07b8>,\n",
       " <matplotlib.lines.Line2D at 0x244b28f04e0>,\n",
       " <matplotlib.lines.Line2D at 0x244b28f0438>,\n",
       " <matplotlib.lines.Line2D at 0x244b28f0cc0>,\n",
       " <matplotlib.lines.Line2D at 0x244b291d198>,\n",
       " <matplotlib.lines.Line2D at 0x244b291dcf8>,\n",
       " <matplotlib.lines.Line2D at 0x244b291dba8>,\n",
       " <matplotlib.lines.Line2D at 0x244b291d898>,\n",
       " <matplotlib.lines.Line2D at 0x244b291d5c0>,\n",
       " <matplotlib.lines.Line2D at 0x244b291d2b0>,\n",
       " <matplotlib.lines.Line2D at 0x244b291d320>,\n",
       " <matplotlib.lines.Line2D at 0x244b291d828>,\n",
       " <matplotlib.lines.Line2D at 0x244b291d748>,\n",
       " <matplotlib.lines.Line2D at 0x244b293ce10>,\n",
       " <matplotlib.lines.Line2D at 0x244b293cb38>,\n",
       " <matplotlib.lines.Line2D at 0x244b293c898>,\n",
       " <matplotlib.lines.Line2D at 0x244b293c588>,\n",
       " <matplotlib.lines.Line2D at 0x244b293c278>,\n",
       " <matplotlib.lines.Line2D at 0x244b293c5f8>,\n",
       " <matplotlib.lines.Line2D at 0x244b293c828>,\n",
       " <matplotlib.lines.Line2D at 0x244b293c748>,\n",
       " <matplotlib.lines.Line2D at 0x244b295cdd8>,\n",
       " <matplotlib.lines.Line2D at 0x244b295ce10>,\n",
       " <matplotlib.lines.Line2D at 0x244b295cb38>,\n",
       " <matplotlib.lines.Line2D at 0x244b295c860>,\n",
       " <matplotlib.lines.Line2D at 0x244b295c5c0>,\n",
       " <matplotlib.lines.Line2D at 0x244b295c208>,\n",
       " <matplotlib.lines.Line2D at 0x244b295ca90>,\n",
       " <matplotlib.lines.Line2D at 0x244b295cc88>,\n",
       " <matplotlib.lines.Line2D at 0x244b298add8>,\n",
       " <matplotlib.lines.Line2D at 0x244b298ac18>,\n",
       " <matplotlib.lines.Line2D at 0x244b298a940>,\n",
       " <matplotlib.lines.Line2D at 0x244b298a668>,\n",
       " <matplotlib.lines.Line2D at 0x244b298a390>,\n",
       " <matplotlib.lines.Line2D at 0x244b298a080>,\n",
       " <matplotlib.lines.Line2D at 0x244b298a278>,\n",
       " <matplotlib.lines.Line2D at 0x244b298a8d0>,\n",
       " <matplotlib.lines.Line2D at 0x244b298a240>,\n",
       " <matplotlib.lines.Line2D at 0x244b29aac18>,\n",
       " <matplotlib.lines.Line2D at 0x244b29aa8d0>,\n",
       " <matplotlib.lines.Line2D at 0x244b29aa5f8>,\n",
       " <matplotlib.lines.Line2D at 0x244b29aa320>,\n",
       " <matplotlib.lines.Line2D at 0x244b29aa2e8>,\n",
       " <matplotlib.lines.Line2D at 0x244b29aa240>,\n",
       " <matplotlib.lines.Line2D at 0x244b29aa898>,\n",
       " <matplotlib.lines.Line2D at 0x244b29aaac8>,\n",
       " <matplotlib.lines.Line2D at 0x244b29caa58>,\n",
       " <matplotlib.lines.Line2D at 0x244b29caba8>,\n",
       " <matplotlib.lines.Line2D at 0x244b29ca908>,\n",
       " <matplotlib.lines.Line2D at 0x244b29ca5f8>,\n",
       " <matplotlib.lines.Line2D at 0x244b29ca2e8>,\n",
       " <matplotlib.lines.Line2D at 0x244b29ca668>,\n",
       " <matplotlib.lines.Line2D at 0x244b29ca588>,\n",
       " <matplotlib.lines.Line2D at 0x244b29cae10>,\n",
       " <matplotlib.lines.Line2D at 0x244b29f85c0>,\n",
       " <matplotlib.lines.Line2D at 0x244b29f8c88>,\n",
       " <matplotlib.lines.Line2D at 0x244b29f89b0>,\n",
       " <matplotlib.lines.Line2D at 0x244b29f86d8>,\n",
       " <matplotlib.lines.Line2D at 0x244b29f8400>,\n",
       " <matplotlib.lines.Line2D at 0x244b29f8160>,\n",
       " <matplotlib.lines.Line2D at 0x244b29f8048>,\n",
       " <matplotlib.lines.Line2D at 0x244b29f83c8>,\n",
       " <matplotlib.lines.Line2D at 0x244b29f8c50>,\n",
       " <matplotlib.lines.Line2D at 0x244b29f82e8>,\n",
       " <matplotlib.lines.Line2D at 0x244b29d9cc0>,\n",
       " <matplotlib.lines.Line2D at 0x244b29d99e8>,\n",
       " <matplotlib.lines.Line2D at 0x244b29d9710>,\n",
       " <matplotlib.lines.Line2D at 0x244b29d9438>,\n",
       " <matplotlib.lines.Line2D at 0x244b29d9198>,\n",
       " <matplotlib.lines.Line2D at 0x244b29d9080>,\n",
       " <matplotlib.lines.Line2D at 0x244b29d9400>,\n",
       " <matplotlib.lines.Line2D at 0x244b29d9c88>,\n",
       " <matplotlib.lines.Line2D at 0x244b2a37550>,\n",
       " <matplotlib.lines.Line2D at 0x244b2a37c88>,\n",
       " <matplotlib.lines.Line2D at 0x244b2a37978>,\n",
       " <matplotlib.lines.Line2D at 0x244b2a376a0>,\n",
       " <matplotlib.lines.Line2D at 0x244b2a373c8>,\n",
       " <matplotlib.lines.Line2D at 0x244b2a370b8>,\n",
       " <matplotlib.lines.Line2D at 0x244b2a37080>,\n",
       " <matplotlib.lines.Line2D at 0x244b2a37908>,\n",
       " <matplotlib.lines.Line2D at 0x244b2a37dd8>,\n",
       " <matplotlib.lines.Line2D at 0x244b2a67668>,\n",
       " <matplotlib.lines.Line2D at 0x244b2a67a58>,\n",
       " <matplotlib.lines.Line2D at 0x244b2a67780>,\n",
       " <matplotlib.lines.Line2D at 0x244b2a674e0>,\n",
       " <matplotlib.lines.Line2D at 0x244b2a671d0>,\n",
       " <matplotlib.lines.Line2D at 0x244b2a67240>,\n",
       " <matplotlib.lines.Line2D at 0x244b2a67748>,\n",
       " <matplotlib.lines.Line2D at 0x244b2a67fd0>,\n",
       " <matplotlib.lines.Line2D at 0x244b2a87908>,\n",
       " <matplotlib.lines.Line2D at 0x244b2a87a90>,\n",
       " <matplotlib.lines.Line2D at 0x244b2a87d30>,\n",
       " <matplotlib.lines.Line2D at 0x244b2a87a58>,\n",
       " <matplotlib.lines.Line2D at 0x244b2a87780>,\n",
       " <matplotlib.lines.Line2D at 0x244b2a877b8>,\n",
       " <matplotlib.lines.Line2D at 0x244b2a874e0>,\n",
       " <matplotlib.lines.Line2D at 0x244b2a87160>,\n",
       " <matplotlib.lines.Line2D at 0x244b2a879e8>,\n",
       " <matplotlib.lines.Line2D at 0x244b2a87eb8>,\n",
       " <matplotlib.lines.Line2D at 0x244b2aa6cc0>,\n",
       " <matplotlib.lines.Line2D at 0x244b2aa69e8>,\n",
       " <matplotlib.lines.Line2D at 0x244b2aa6710>,\n",
       " <matplotlib.lines.Line2D at 0x244b2aa6470>,\n",
       " <matplotlib.lines.Line2D at 0x244b2aa6160>,\n",
       " <matplotlib.lines.Line2D at 0x244b2aa61d0>,\n",
       " <matplotlib.lines.Line2D at 0x244b2aa66d8>,\n",
       " <matplotlib.lines.Line2D at 0x244b2aa6f98>,\n",
       " <matplotlib.lines.Line2D at 0x244b2ad5cc0>,\n",
       " <matplotlib.lines.Line2D at 0x244b2ad5dd8>,\n",
       " <matplotlib.lines.Line2D at 0x244b2ad5e48>,\n",
       " <matplotlib.lines.Line2D at 0x244b2ad5b70>,\n",
       " <matplotlib.lines.Line2D at 0x244b2ad5898>,\n",
       " <matplotlib.lines.Line2D at 0x244b2ad55c0>,\n",
       " <matplotlib.lines.Line2D at 0x244b2ad5240>,\n",
       " <matplotlib.lines.Line2D at 0x244b2ad5ac8>,\n",
       " <matplotlib.lines.Line2D at 0x244b2af4c88>,\n",
       " <matplotlib.lines.Line2D at 0x244b2af4dd8>,\n",
       " <matplotlib.lines.Line2D at 0x244b2af4b00>,\n",
       " <matplotlib.lines.Line2D at 0x244b2af4828>,\n",
       " <matplotlib.lines.Line2D at 0x244b2af4550>,\n",
       " <matplotlib.lines.Line2D at 0x244b2af4240>,\n",
       " <matplotlib.lines.Line2D at 0x244b2af42b0>,\n",
       " <matplotlib.lines.Line2D at 0x244b2af47b8>,\n",
       " <matplotlib.lines.Line2D at 0x244b2af49b0>,\n",
       " <matplotlib.lines.Line2D at 0x244b2b22ac8>,\n",
       " <matplotlib.lines.Line2D at 0x244b2b22be0>,\n",
       " <matplotlib.lines.Line2D at 0x244b2b22908>,\n",
       " <matplotlib.lines.Line2D at 0x244b2b22630>,\n",
       " <matplotlib.lines.Line2D at 0x244b2b22390>,\n",
       " <matplotlib.lines.Line2D at 0x244b2b220b8>,\n",
       " <matplotlib.lines.Line2D at 0x244b2b22048>,\n",
       " <matplotlib.lines.Line2D at 0x244b2b228d0>,\n",
       " <matplotlib.lines.Line2D at 0x244b2b22278>,\n",
       " <matplotlib.lines.Line2D at 0x244b2b43e80>,\n",
       " <matplotlib.lines.Line2D at 0x244b2b43eb8>,\n",
       " <matplotlib.lines.Line2D at 0x244b2b43c18>,\n",
       " <matplotlib.lines.Line2D at 0x244b2b43940>,\n",
       " <matplotlib.lines.Line2D at 0x244b2b43668>,\n",
       " <matplotlib.lines.Line2D at 0x244b2b43390>,\n",
       " <matplotlib.lines.Line2D at 0x244b2b432e8>,\n",
       " <matplotlib.lines.Line2D at 0x244b2b43b70>,\n",
       " <matplotlib.lines.Line2D at 0x244b2b61d30>,\n",
       " <matplotlib.lines.Line2D at 0x244b2b61b70>,\n",
       " <matplotlib.lines.Line2D at 0x244b2b61898>,\n",
       " <matplotlib.lines.Line2D at 0x244b2b615c0>,\n",
       " <matplotlib.lines.Line2D at 0x244b2b61320>,\n",
       " <matplotlib.lines.Line2D at 0x244b2b61208>,\n",
       " <matplotlib.lines.Line2D at 0x244b2b612b0>,\n",
       " <matplotlib.lines.Line2D at 0x244b2b61b38>,\n",
       " <matplotlib.lines.Line2D at 0x244b2b80e10>,\n",
       " <matplotlib.lines.Line2D at 0x244b2b80e48>,\n",
       " <matplotlib.lines.Line2D at 0x244b2b80ba8>,\n",
       " <matplotlib.lines.Line2D at 0x244b2b808d0>,\n",
       " <matplotlib.lines.Line2D at 0x244b2b805f8>,\n",
       " <matplotlib.lines.Line2D at 0x244b2b80278>,\n",
       " <matplotlib.lines.Line2D at 0x244b2b80b00>,\n",
       " <matplotlib.lines.Line2D at 0x244b2bb1b38>,\n",
       " <matplotlib.lines.Line2D at 0x244b2bb1c50>,\n",
       " <matplotlib.lines.Line2D at 0x244b2bb1978>,\n",
       " <matplotlib.lines.Line2D at 0x244b2bb16a0>,\n",
       " <matplotlib.lines.Line2D at 0x244b2bb1400>,\n",
       " <matplotlib.lines.Line2D at 0x244b2bb1128>,\n",
       " <matplotlib.lines.Line2D at 0x244b2bb1198>,\n",
       " <matplotlib.lines.Line2D at 0x244b2bb13c8>,\n",
       " <matplotlib.lines.Line2D at 0x244b2bb1c18>,\n",
       " <matplotlib.lines.Line2D at 0x244b2bcfdd8>,\n",
       " <matplotlib.lines.Line2D at 0x244b2bcfc18>,\n",
       " <matplotlib.lines.Line2D at 0x244b2bcf940>,\n",
       " <matplotlib.lines.Line2D at 0x244b2bcf668>,\n",
       " <matplotlib.lines.Line2D at 0x244b2bcf390>,\n",
       " <matplotlib.lines.Line2D at 0x244b2bcf128>,\n",
       " <matplotlib.lines.Line2D at 0x244b2bcf160>,\n",
       " <matplotlib.lines.Line2D at 0x244b2bcf630>,\n",
       " <matplotlib.lines.Line2D at 0x244b2bcfeb8>,\n",
       " <matplotlib.lines.Line2D at 0x244b2bff390>,\n",
       " <matplotlib.lines.Line2D at 0x244b2bffd30>,\n",
       " <matplotlib.lines.Line2D at 0x244b2bffac8>,\n",
       " <matplotlib.lines.Line2D at 0x244b2bff7b8>,\n",
       " <matplotlib.lines.Line2D at 0x244b2bff9b0>,\n",
       " <matplotlib.lines.Line2D at 0x244b2bff828>,\n",
       " <matplotlib.lines.Line2D at 0x244b2bff198>,\n",
       " <matplotlib.lines.Line2D at 0x244b2bffa58>,\n",
       " <matplotlib.lines.Line2D at 0x244b2bffb00>,\n",
       " <matplotlib.lines.Line2D at 0x244b2c1f908>,\n",
       " <matplotlib.lines.Line2D at 0x244b2c1fd30>,\n",
       " <matplotlib.lines.Line2D at 0x244b2c1fa58>,\n",
       " <matplotlib.lines.Line2D at 0x244b2c1f7b8>,\n",
       " <matplotlib.lines.Line2D at 0x244b2c1f7f0>,\n",
       " <matplotlib.lines.Line2D at 0x244b2c1f6a0>,\n",
       " <matplotlib.lines.Line2D at 0x244b2c1f160>,\n",
       " <matplotlib.lines.Line2D at 0x244b2c1f9e8>,\n",
       " <matplotlib.lines.Line2D at 0x244b2c1f668>,\n",
       " <matplotlib.lines.Line2D at 0x244b2c3df98>,\n",
       " <matplotlib.lines.Line2D at 0x244b2c3dfd0>,\n",
       " <matplotlib.lines.Line2D at 0x244b2c3dd30>,\n",
       " <matplotlib.lines.Line2D at 0x244b2c3da58>,\n",
       " <matplotlib.lines.Line2D at 0x244b2c3d780>,\n",
       " <matplotlib.lines.Line2D at 0x244b2c3d4e0>,\n",
       " <matplotlib.lines.Line2D at 0x244b2c3d128>,\n",
       " <matplotlib.lines.Line2D at 0x244b2c3d9b0>,\n",
       " <matplotlib.lines.Line2D at 0x244b2c3dba8>,\n",
       " <matplotlib.lines.Line2D at 0x244b2c6cf98>,\n",
       " <matplotlib.lines.Line2D at 0x244b2c6ce10>,\n",
       " <matplotlib.lines.Line2D at 0x244b2c6ce80>,\n",
       " <matplotlib.lines.Line2D at 0x244b2c6cd30>,\n",
       " <matplotlib.lines.Line2D at 0x244b2c6cba8>,\n",
       " <matplotlib.lines.Line2D at 0x244b2c6c5c0>,\n",
       " <matplotlib.lines.Line2D at 0x244b2c6c240>,\n",
       " <matplotlib.lines.Line2D at 0x244b2c6cac8>,\n",
       " <matplotlib.lines.Line2D at 0x244b2c8bf60>,\n",
       " <matplotlib.lines.Line2D at 0x244b2c8bda0>,\n",
       " <matplotlib.lines.Line2D at 0x244b2c8be10>,\n",
       " <matplotlib.lines.Line2D at 0x244b2c8bb70>,\n",
       " <matplotlib.lines.Line2D at 0x244b2c8ba20>,\n",
       " <matplotlib.lines.Line2D at 0x244b2c8b898>,\n",
       " <matplotlib.lines.Line2D at 0x244b2c8b208>,\n",
       " <matplotlib.lines.Line2D at 0x244b2c8bac8>,\n",
       " <matplotlib.lines.Line2D at 0x244b2cdad68>,\n",
       " <matplotlib.lines.Line2D at 0x244b2cdae80>,\n",
       " <matplotlib.lines.Line2D at 0x244b2cda908>,\n",
       " <matplotlib.lines.Line2D at 0x244b2cda630>,\n",
       " <matplotlib.lines.Line2D at 0x244b2cda358>,\n",
       " <matplotlib.lines.Line2D at 0x244b2cda080>,\n",
       " <matplotlib.lines.Line2D at 0x244b2cda390>,\n",
       " <matplotlib.lines.Line2D at 0x244b2cda5c0>,\n",
       " <matplotlib.lines.Line2D at 0x244b2cdae48>,\n",
       " <matplotlib.lines.Line2D at 0x244b2cabf28>,\n",
       " <matplotlib.lines.Line2D at 0x244b2cabd68>,\n",
       " <matplotlib.lines.Line2D at 0x244b2cabdd8>,\n",
       " <matplotlib.lines.Line2D at 0x244b2cabb00>,\n",
       " <matplotlib.lines.Line2D at 0x244b2cab860>,\n",
       " <matplotlib.lines.Line2D at 0x244b2cab710>,\n",
       " <matplotlib.lines.Line2D at 0x244b2cab1d0>,\n",
       " <matplotlib.lines.Line2D at 0x244b2caba58>,\n",
       " <matplotlib.lines.Line2D at 0x244b2cab978>,\n",
       " <matplotlib.lines.Line2D at 0x244b2d47b38>,\n",
       " <matplotlib.lines.Line2D at 0x244b2d47c88>,\n",
       " <matplotlib.lines.Line2D at 0x244b2d479b0>,\n",
       " <matplotlib.lines.Line2D at 0x244b2d476d8>,\n",
       " <matplotlib.lines.Line2D at 0x244b2d47400>,\n",
       " <matplotlib.lines.Line2D at 0x244b2d470f0>,\n",
       " <matplotlib.lines.Line2D at 0x244b2d470b8>,\n",
       " <matplotlib.lines.Line2D at 0x244b2d47940>,\n",
       " <matplotlib.lines.Line2D at 0x244b2d472b0>,\n",
       " <matplotlib.lines.Line2D at 0x244b2d18e10>,\n",
       " <matplotlib.lines.Line2D at 0x244b2d18e48>,\n",
       " <matplotlib.lines.Line2D at 0x244b2d18be0>,\n",
       " <matplotlib.lines.Line2D at 0x244b2d18a90>,\n",
       " <matplotlib.lines.Line2D at 0x244b2d18908>,\n",
       " <matplotlib.lines.Line2D at 0x244b2d18748>,\n",
       " <matplotlib.lines.Line2D at 0x244b2d18828>,\n",
       " <matplotlib.lines.Line2D at 0x244b2d18cf8>,\n",
       " <matplotlib.lines.Line2D at 0x244b2d87ef0>,\n",
       " <matplotlib.lines.Line2D at 0x244b2d87f28>,\n",
       " <matplotlib.lines.Line2D at 0x244b2d87e10>,\n",
       " <matplotlib.lines.Line2D at 0x244b2d87c88>,\n",
       " <matplotlib.lines.Line2D at 0x244b2d876a0>,\n",
       " <matplotlib.lines.Line2D at 0x244b2d873c8>,\n",
       " <matplotlib.lines.Line2D at 0x244b2d87320>,\n",
       " <matplotlib.lines.Line2D at 0x244b2d87ba8>,\n",
       " <matplotlib.lines.Line2D at 0x244b2db3908>,\n",
       " <matplotlib.lines.Line2D at 0x244b2db3a90>,\n",
       " <matplotlib.lines.Line2D at 0x244b2db3fd0>,\n",
       " <matplotlib.lines.Line2D at 0x244b2db3d68>,\n",
       " <matplotlib.lines.Line2D at 0x244b2db3470>,\n",
       " <matplotlib.lines.Line2D at 0x244b2db31d0>,\n",
       " <matplotlib.lines.Line2D at 0x244b2db30b8>,\n",
       " <matplotlib.lines.Line2D at 0x244b2db3438>,\n",
       " <matplotlib.lines.Line2D at 0x244b2db3cc0>,\n",
       " <matplotlib.lines.Line2D at 0x244b2dd6ba8>,\n",
       " <matplotlib.lines.Line2D at 0x244b2dd65f8>,\n",
       " <matplotlib.lines.Line2D at 0x244b2dd6cf8>,\n",
       " <matplotlib.lines.Line2D at 0x244b2dd6a20>,\n",
       " <matplotlib.lines.Line2D at 0x244b2dd6748>,\n",
       " <matplotlib.lines.Line2D at 0x244b2dd6470>,\n",
       " <matplotlib.lines.Line2D at 0x244b2dd6160>,\n",
       " <matplotlib.lines.Line2D at 0x244b2dd61d0>,\n",
       " <matplotlib.lines.Line2D at 0x244b2dd66d8>,\n",
       " <matplotlib.lines.Line2D at 0x244b2dd6f60>,\n",
       " <matplotlib.lines.Line2D at 0x244b2e04438>,\n",
       " <matplotlib.lines.Line2D at 0x244b2e04b00>,\n",
       " <matplotlib.lines.Line2D at 0x244b2e04828>,\n",
       " <matplotlib.lines.Line2D at 0x244b2e04550>,\n",
       " <matplotlib.lines.Line2D at 0x244b2e042e8>,\n",
       " <matplotlib.lines.Line2D at 0x244b2e04320>,\n",
       " <matplotlib.lines.Line2D at 0x244b2e047f0>,\n",
       " <matplotlib.lines.Line2D at 0x244b2e04198>,\n",
       " <matplotlib.lines.Line2D at 0x244b2e246d8>,\n",
       " <matplotlib.lines.Line2D at 0x244b2e24ac8>,\n",
       " <matplotlib.lines.Line2D at 0x244b2e247f0>,\n",
       " <matplotlib.lines.Line2D at 0x244b2e24518>,\n",
       " <matplotlib.lines.Line2D at 0x244b2e24278>,\n",
       " <matplotlib.lines.Line2D at 0x244b2e24160>,\n",
       " <matplotlib.lines.Line2D at 0x244b2e244e0>,\n",
       " <matplotlib.lines.Line2D at 0x244b2e24d68>,\n",
       " <matplotlib.lines.Line2D at 0x244b2e63d68>,\n",
       " <matplotlib.lines.Line2D at 0x244b2e63da0>,\n",
       " <matplotlib.lines.Line2D at 0x244b2e634a8>,\n",
       " <matplotlib.lines.Line2D at 0x244b2e63208>,\n",
       " <matplotlib.lines.Line2D at 0x244b2e630f0>,\n",
       " <matplotlib.lines.Line2D at 0x244b2e63470>,\n",
       " <matplotlib.lines.Line2D at 0x244b2e63cf8>,\n",
       " <matplotlib.lines.Line2D at 0x244b2e63c18>,\n",
       " <matplotlib.lines.Line2D at 0x244b2e42da0>,\n",
       " <matplotlib.lines.Line2D at 0x244b2e42ac8>,\n",
       " <matplotlib.lines.Line2D at 0x244b2e427f0>,\n",
       " <matplotlib.lines.Line2D at 0x244b2e42518>,\n",
       " <matplotlib.lines.Line2D at 0x244b2e42208>,\n",
       " <matplotlib.lines.Line2D at 0x244b2e42278>,\n",
       " <matplotlib.lines.Line2D at 0x244b2e42780>,\n",
       " <matplotlib.lines.Line2D at 0x244b2e42978>,\n",
       " <matplotlib.lines.Line2D at 0x244b2ed0dd8>,\n",
       " <matplotlib.lines.Line2D at 0x244b2ed0e48>,\n",
       " <matplotlib.lines.Line2D at 0x244b2ed0b70>,\n",
       " <matplotlib.lines.Line2D at 0x244b2ed0898>,\n",
       " <matplotlib.lines.Line2D at 0x244b2ed05c0>,\n",
       " <matplotlib.lines.Line2D at 0x244b2ed0240>,\n",
       " <matplotlib.lines.Line2D at 0x244b2ed0ac8>,\n",
       " <matplotlib.lines.Line2D at 0x244b2eb1fd0>,\n",
       " <matplotlib.lines.Line2D at 0x244b2eb1b38>,\n",
       " <matplotlib.lines.Line2D at 0x244b2eb1860>,\n",
       " <matplotlib.lines.Line2D at 0x244b2eb1588>,\n",
       " <matplotlib.lines.Line2D at 0x244b2eb12e8>,\n",
       " <matplotlib.lines.Line2D at 0x244b2eb11d0>,\n",
       " <matplotlib.lines.Line2D at 0x244b2eb1278>,\n",
       " <matplotlib.lines.Line2D at 0x244b2eb1b00>,\n",
       " <matplotlib.lines.Line2D at 0x244b2eb1cf8>,\n",
       " <matplotlib.lines.Line2D at 0x244b2f20eb8>,\n",
       " <matplotlib.lines.Line2D at 0x244b2f20ef0>,\n",
       " <matplotlib.lines.Line2D at 0x244b2f20c50>,\n",
       " <matplotlib.lines.Line2D at 0x244b2f20978>,\n",
       " <matplotlib.lines.Line2D at 0x244b2f206a0>,\n",
       " <matplotlib.lines.Line2D at 0x244b2f20400>,\n",
       " <matplotlib.lines.Line2D at 0x244b2f205f8>,\n",
       " <matplotlib.lines.Line2D at 0x244b2f20e80>,\n",
       " <matplotlib.lines.Line2D at 0x244b2f4e908>,\n",
       " <matplotlib.lines.Line2D at 0x244b2f4ec50>,\n",
       " <matplotlib.lines.Line2D at 0x244b2f4efd0>,\n",
       " <matplotlib.lines.Line2D at 0x244b2f4eda0>,\n",
       " <matplotlib.lines.Line2D at 0x244b2f4e470>,\n",
       " <matplotlib.lines.Line2D at 0x244b2f4e1d0>,\n",
       " <matplotlib.lines.Line2D at 0x244b2f4e0b8>,\n",
       " <matplotlib.lines.Line2D at 0x244b2f4e438>,\n",
       " <matplotlib.lines.Line2D at 0x244b2f4ecf8>,\n",
       " <matplotlib.lines.Line2D at 0x244b2f6ce80>,\n",
       " <matplotlib.lines.Line2D at 0x244b2f6ccc0>,\n",
       " <matplotlib.lines.Line2D at 0x244b2f6ca20>,\n",
       " <matplotlib.lines.Line2D at 0x244b2f6c710>,\n",
       " <matplotlib.lines.Line2D at 0x244b2f6c438>,\n",
       " <matplotlib.lines.Line2D at 0x244b2f6c198>,\n",
       " <matplotlib.lines.Line2D at 0x244b2f6c080>,\n",
       " <matplotlib.lines.Line2D at 0x244b2f6c400>,\n",
       " <matplotlib.lines.Line2D at 0x244b2f6cc88>,\n",
       " <matplotlib.lines.Line2D at 0x244b2f8ce48>,\n",
       " <matplotlib.lines.Line2D at 0x244b2f8cc88>,\n",
       " <matplotlib.lines.Line2D at 0x244b2f8c9b0>,\n",
       " <matplotlib.lines.Line2D at 0x244b2f8c710>,\n",
       " <matplotlib.lines.Line2D at 0x244b2f8c400>,\n",
       " <matplotlib.lines.Line2D at 0x244b2f8c160>,\n",
       " <matplotlib.lines.Line2D at 0x244b2f8c048>,\n",
       " <matplotlib.lines.Line2D at 0x244b2f8c3c8>,\n",
       " <matplotlib.lines.Line2D at 0x244b2f8cc50>,\n",
       " <matplotlib.lines.Line2D at 0x244b2fbbc88>,\n",
       " <matplotlib.lines.Line2D at 0x244b2fbb6d8>,\n",
       " <matplotlib.lines.Line2D at 0x244b2fbbac8>,\n",
       " <matplotlib.lines.Line2D at 0x244b2fbb7f0>,\n",
       " <matplotlib.lines.Line2D at 0x244b2fbb518>,\n",
       " <matplotlib.lines.Line2D at 0x244b2fbb278>,\n",
       " <matplotlib.lines.Line2D at 0x244b2fbb160>,\n",
       " <matplotlib.lines.Line2D at 0x244b2fbb4e0>,\n",
       " <matplotlib.lines.Line2D at 0x244b2fbbd68>,\n",
       " <matplotlib.lines.Line2D at 0x244b2fda3c8>,\n",
       " <matplotlib.lines.Line2D at 0x244b2fdaa90>,\n",
       " <matplotlib.lines.Line2D at 0x244b2fda7b8>,\n",
       " <matplotlib.lines.Line2D at 0x244b2fda4e0>,\n",
       " <matplotlib.lines.Line2D at 0x244b2fda240>,\n",
       " <matplotlib.lines.Line2D at 0x244b2fda128>,\n",
       " <matplotlib.lines.Line2D at 0x244b2fda4a8>,\n",
       " <matplotlib.lines.Line2D at 0x244b2fdad68>,\n",
       " <matplotlib.lines.Line2D at 0x244b30274a8>,\n",
       " <matplotlib.lines.Line2D at 0x244b3027b70>,\n",
       " <matplotlib.lines.Line2D at 0x244b3027898>,\n",
       " <matplotlib.lines.Line2D at 0x244b30275c0>,\n",
       " <matplotlib.lines.Line2D at 0x244b3027320>,\n",
       " <matplotlib.lines.Line2D at 0x244b3027208>,\n",
       " <matplotlib.lines.Line2D at 0x244b30272b0>,\n",
       " <matplotlib.lines.Line2D at 0x244b3027b38>,\n",
       " <matplotlib.lines.Line2D at 0x244b2ffaef0>,\n",
       " <matplotlib.lines.Line2D at 0x244b2ffad68>,\n",
       " <matplotlib.lines.Line2D at 0x244b2ffada0>,\n",
       " <matplotlib.lines.Line2D at 0x244b2ffa4a8>,\n",
       " <matplotlib.lines.Line2D at 0x244b2ffa208>,\n",
       " <matplotlib.lines.Line2D at 0x244b2ffa0f0>,\n",
       " <matplotlib.lines.Line2D at 0x244b2ffa470>,\n",
       " <matplotlib.lines.Line2D at 0x244b2ffacf8>,\n",
       " <matplotlib.lines.Line2D at 0x244b2ffac18>,\n",
       " <matplotlib.lines.Line2D at 0x244b3067f98>,\n",
       " <matplotlib.lines.Line2D at 0x244b3067e10>,\n",
       " <matplotlib.lines.Line2D at 0x244b3067e80>,\n",
       " <matplotlib.lines.Line2D at 0x244b3067d30>,\n",
       " <matplotlib.lines.Line2D at 0x244b3067ba8>,\n",
       " <matplotlib.lines.Line2D at 0x244b30675c0>,\n",
       " <matplotlib.lines.Line2D at 0x244b3067240>,\n",
       " <matplotlib.lines.Line2D at 0x244b3067ac8>,\n",
       " <matplotlib.lines.Line2D at 0x244b3067438>,\n",
       " <matplotlib.lines.Line2D at 0x244b3096c18>,\n",
       " <matplotlib.lines.Line2D at 0x244b3096940>,\n",
       " <matplotlib.lines.Line2D at 0x244b3096668>,\n",
       " <matplotlib.lines.Line2D at 0x244b3096390>,\n",
       " <matplotlib.lines.Line2D at 0x244b30960f0>,\n",
       " <matplotlib.lines.Line2D at 0x244b30962b0>,\n",
       " <matplotlib.lines.Line2D at 0x244b3096630>,\n",
       " <matplotlib.lines.Line2D at 0x244b3096eb8>,\n",
       " <matplotlib.lines.Line2D at 0x244b31058d0>,\n",
       " <matplotlib.lines.Line2D at 0x244b3105e80>,\n",
       " <matplotlib.lines.Line2D at 0x244b3105cf8>,\n",
       " <matplotlib.lines.Line2D at 0x244b3105a20>,\n",
       " <matplotlib.lines.Line2D at 0x244b3105748>,\n",
       " <matplotlib.lines.Line2D at 0x244b3105470>,\n",
       " <matplotlib.lines.Line2D at 0x244b3105160>,\n",
       " <matplotlib.lines.Line2D at 0x244b31051d0>,\n",
       " <matplotlib.lines.Line2D at 0x244b31056d8>,\n",
       " <matplotlib.lines.Line2D at 0x244b3105f60>,\n",
       " <matplotlib.lines.Line2D at 0x244b3124b70>,\n",
       " <matplotlib.lines.Line2D at 0x244b3124cc0>,\n",
       " <matplotlib.lines.Line2D at 0x244b31249e8>,\n",
       " <matplotlib.lines.Line2D at 0x244b3124710>,\n",
       " <matplotlib.lines.Line2D at 0x244b3124438>,\n",
       " <matplotlib.lines.Line2D at 0x244b3124128>,\n",
       " <matplotlib.lines.Line2D at 0x244b3124198>,\n",
       " <matplotlib.lines.Line2D at 0x244b31246a0>,\n",
       " <matplotlib.lines.Line2D at 0x244b3124f28>,\n",
       " <matplotlib.lines.Line2D at 0x244b3142f28>,\n",
       " <matplotlib.lines.Line2D at 0x244b3142f60>,\n",
       " <matplotlib.lines.Line2D at 0x244b3142cc0>,\n",
       " <matplotlib.lines.Line2D at 0x244b31429e8>,\n",
       " <matplotlib.lines.Line2D at 0x244b3142710>,\n",
       " <matplotlib.lines.Line2D at 0x244b3142438>,\n",
       " <matplotlib.lines.Line2D at 0x244b3142390>,\n",
       " <matplotlib.lines.Line2D at 0x244b3142c18>,\n",
       " <matplotlib.lines.Line2D at 0x244b3173978>,\n",
       " <matplotlib.lines.Line2D at 0x244b3173da0>,\n",
       " <matplotlib.lines.Line2D at 0x244b3173ac8>,\n",
       " <matplotlib.lines.Line2D at 0x244b31737f0>,\n",
       " <matplotlib.lines.Line2D at 0x244b3173518>,\n",
       " <matplotlib.lines.Line2D at 0x244b3173240>,\n",
       " <matplotlib.lines.Line2D at 0x244b31732b0>,\n",
       " <matplotlib.lines.Line2D at 0x244b3173a58>,\n",
       " <matplotlib.lines.Line2D at 0x244b3191ef0>,\n",
       " <matplotlib.lines.Line2D at 0x244b3191d30>,\n",
       " <matplotlib.lines.Line2D at 0x244b3191a90>,\n",
       " <matplotlib.lines.Line2D at 0x244b31917b8>,\n",
       " <matplotlib.lines.Line2D at 0x244b31917f0>,\n",
       " <matplotlib.lines.Line2D at 0x244b3191518>,\n",
       " <matplotlib.lines.Line2D at 0x244b3191198>,\n",
       " <matplotlib.lines.Line2D at 0x244b3191a20>,\n",
       " <matplotlib.lines.Line2D at 0x244b3191ac8>,\n",
       " <matplotlib.lines.Line2D at 0x244b31b3cf8>,\n",
       " <matplotlib.lines.Line2D at 0x244b31b3a20>,\n",
       " <matplotlib.lines.Line2D at 0x244b31b3748>,\n",
       " <matplotlib.lines.Line2D at 0x244b31b34a8>,\n",
       " <matplotlib.lines.Line2D at 0x244b31b3198>,\n",
       " <matplotlib.lines.Line2D at 0x244b31b3208>,\n",
       " <matplotlib.lines.Line2D at 0x244b31b3710>,\n",
       " <matplotlib.lines.Line2D at 0x244b31b3f98>,\n",
       " <matplotlib.lines.Line2D at 0x244b31e3cf8>,\n",
       " <matplotlib.lines.Line2D at 0x244b31e3b38>,\n",
       " <matplotlib.lines.Line2D at 0x244b31e3860>,\n",
       " <matplotlib.lines.Line2D at 0x244b31e35c0>,\n",
       " <matplotlib.lines.Line2D at 0x244b31e32e8>,\n",
       " <matplotlib.lines.Line2D at 0x244b31e3358>,\n",
       " <matplotlib.lines.Line2D at 0x244b31e3588>,\n",
       " <matplotlib.lines.Line2D at 0x244b31e3dd8>,\n",
       " <matplotlib.lines.Line2D at 0x244b31ffcc0>,\n",
       " <matplotlib.lines.Line2D at 0x244b31ffdd8>,\n",
       " <matplotlib.lines.Line2D at 0x244b31ffe48>,\n",
       " <matplotlib.lines.Line2D at 0x244b31ffb70>,\n",
       " <matplotlib.lines.Line2D at 0x244b31ff898>,\n",
       " <matplotlib.lines.Line2D at 0x244b31ff5c0>,\n",
       " <matplotlib.lines.Line2D at 0x244b31ff518>,\n",
       " <matplotlib.lines.Line2D at 0x244b31ffda0>,\n",
       " <matplotlib.lines.Line2D at 0x244b321fda0>,\n",
       " <matplotlib.lines.Line2D at 0x244b321fe10>,\n",
       " <matplotlib.lines.Line2D at 0x244b321fb38>,\n",
       " <matplotlib.lines.Line2D at 0x244b321f860>,\n",
       " <matplotlib.lines.Line2D at 0x244b321f588>,\n",
       " <matplotlib.lines.Line2D at 0x244b321f208>,\n",
       " <matplotlib.lines.Line2D at 0x244b321fa90>,\n",
       " <matplotlib.lines.Line2D at 0x244b324fda0>,\n",
       " <matplotlib.lines.Line2D at 0x244b324feb8>,\n",
       " <matplotlib.lines.Line2D at 0x244b324fef0>]"
      ]
     },
     "execution_count": 130,
     "metadata": {},
     "output_type": "execute_result"
    },
    {
     "data": {
      "image/png": "[encoded data removed]",
      "text/plain": [
       "<Figure size 432x288 with 1 Axes>"
      ]
     },
     "metadata": {
      "needs_background": "light"
     },
     "output_type": "display_data"
    }
   ],
   "source": [
    "plt.plot(steps)"
   ]
  },
  {
   "cell_type": "code",
   "execution_count": null,
   "metadata": {},
   "outputs": [],
   "source": []
  }
 ],
 "metadata": {
  "kernelspec": {
   "display_name": "Python 3",
   "language": "python",
   "name": "python3"
  },
  "language_info": {
   "codemirror_mode": {
    "name": "ipython",
    "version": 3
   },
   "file_extension": ".py",
   "mimetype": "text/x-python",
   "name": "python",
   "nbconvert_exporter": "python",
   "pygments_lexer": "ipython3",
   "version": "3.7.0"
  }
 },
 "nbformat": 4,
 "nbformat_minor": 2
}
